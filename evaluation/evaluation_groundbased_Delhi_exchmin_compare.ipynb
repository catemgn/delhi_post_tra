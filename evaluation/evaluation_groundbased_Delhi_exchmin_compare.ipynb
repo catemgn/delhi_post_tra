{
 "cells": [
  {
   "cell_type": "markdown",
   "metadata": {},
   "source": [
    "This notebook compare WRF-Chem modeled surface pollutants with different minimm PBL coefficient mixing with ground based observations over Delhi NCT."
   ]
  },
  {
   "cell_type": "code",
   "execution_count": 1,
   "metadata": {},
   "outputs": [],
   "source": [
    "#import modules\n",
    "%run ../load_main.py\n",
    "from Air_Quality_notebooks import utils as utl\n",
    "from WRFChemToolkit.analysis import statistics as st"
   ]
  },
  {
   "cell_type": "markdown",
   "metadata": {},
   "source": [
    "\n",
    "## Load outputs  with different min mixing coefficients schemes"
   ]
  },
  {
   "cell_type": "code",
   "execution_count": 2,
   "metadata": {},
   "outputs": [],
   "source": [
    "exchb=xr.open_mfdataset('/exports/geos.ed.ac.uk/palmer_group/managed/s1878599/delhiAQ/delhiNCT/outputs_postmon/pblmincoeff_tests/wrfout_d01_2019-10-*_00:00:00_nest_2019_newdyno_noexchmin.nc')\n",
    "exch05= xr.open_mfdataset('/exports/geos.ed.ac.uk/palmer_group/managed/s1878599/delhiAQ/delhiNCT/outputs_postmon/pblmincoeff_tests/wrfout_d01_2019-10-*_00:00:00_nest_2019_newdyno_exchmin0.5.nc')\n",
    "exch5=xr.open_mfdataset('/exports/geos.ed.ac.uk/palmer_group/managed/s1878599/delhiAQ/delhiNCT/outputs_postmon/pblmincoeff_tests//wrfout_d01_2019-10-*_00:00:00_nest_2019_newdyno_exchmin5.nc')\n",
    "exch50=xr.open_mfdataset('/exports/geos.ed.ac.uk/palmer_group/managed/s1878599/delhiAQ/delhiNCT/outputs_postmon/pblmincoeff_tests/wrfout_d01_2019-10-*_00:00:00_nest_2019_newdyno_exchmin50.nc')"
   ]
  },
  {
   "cell_type": "code",
   "execution_count": 3,
   "metadata": {},
   "outputs": [],
   "source": [
    "s={'exch_base':exchb,'exch_0.5':exch05, 'exch_5':exch5, 'exch_50':exch50}"
   ]
  },
  {
   "cell_type": "code",
   "execution_count": 4,
   "metadata": {},
   "outputs": [],
   "source": [
    "def reset_time_dim(ds):\n",
    "    \"\"\"\n",
    "    Time dimension in WRF-Chem datasets is just the time index [0,1,2,3...].\n",
    "    This function convert dimension Time as datetime[64].\n",
    "    :param ds:\n",
    "     wrf-chem xarray dataset.\n",
    "    :type ds:xarray.Dataset.\n",
    "    :return:\n",
    "     xarray.Dataset with datetime time dim.\n",
    "    :rtype: xarray.Dataset.\n",
    "    \"\"\"\n",
    "    return ds.assign_coords(Time=pd.to_datetime(ds.XTIME.values))"
   ]
  },
  {
   "cell_type": "code",
   "execution_count": 5,
   "metadata": {},
   "outputs": [],
   "source": [
    "# reset time and discard 5 days  spinup period.\n",
    "for k in s.keys():\n",
    "    s[k]=reset_time_dim(s[k]).sel(Time=slice('2019-10-06T00:00:00.000000000','2019-10-16T00:00:00.000000000')) # 5 days"
   ]
  },
  {
   "cell_type": "code",
   "execution_count": 6,
   "metadata": {},
   "outputs": [],
   "source": [
    "def gas_ppm_to_ugm3(ds,gas,mol_w):\n",
    "    \"\"\"Convert gas from ppmv to ug/m3 based on molar weight of gas\n",
    "    from  https://www.acom.ucar.edu/wrf-chem/ConversionMozartWRFChem.pdf\"\"\"\n",
    "    ds[gas + \"_ugm3\"]=((ds[gas]/1e6)*(mol_w/29)*1e9)/ds.ALT\n",
    "    ds[gas + \"_ugm3\"].attrs[\"units\"]=\"ug m-3\"\n",
    "\n",
    "# gas pollutants and their molar weight.\n",
    "poll={\"co\":28,\"o3\":48,\"no2\":46,\"so2\":64,'no':30,'nh3':17} \n",
    "for v in s.values():\n",
    "    for p,m in poll.items():\n",
    "            gas_ppm_to_ugm3(v,p,m)"
   ]
  },
  {
   "cell_type": "code",
   "execution_count": 7,
   "metadata": {},
   "outputs": [],
   "source": [
    "# subset surface values of relevant pollutants.\n",
    "\n",
    "def get_pollutants(ds):\n",
    "    \n",
    "    data ={\n",
    "           \"no2\" : (['time',\"lat\",\"lon\"], ds.no2_ugm3.values[:,0,:,:]),\n",
    "           \"so2\" : (['time',\"lat\",\"lon\"], ds.so2_ugm3.values[:,0,:,:]),\n",
    "           \"o3\" : (['time',\"lat\",\"lon\"], ds.o3_ugm3.values[:,0,:,:]),\n",
    "           \"nh3\" : (['time',\"lat\",\"lon\"], ds.nh3_ugm3.values[:,0,:,:]),\n",
    "           'nox': (['time',\"lat\",\"lon\"], ds.no.values[:,0,:,:]*1e3+ds.no2.values[:,0,:,:]*1e3),  # from  ppmv to ppb.\n",
    "           \"no\" : (['time',\"lat\",\"lon\"], ds.no_ugm3.values[:,0,:,:]),\n",
    "           \"pm25\" : (['time',\"lat\",\"lon\"], ds.PM2_5_DRY.values[:,0,:,:]),             \n",
    "           \"pm10\" : (['time',\"lat\",\"lon\"], ds.PM10.values[:,0,:,:]),\n",
    "           \"PBLH\" : (['time',\"lat\",\"lon\"], ds.PBLH.values[:,:,:]),\n",
    "          }\n",
    "    coords={'time': (['time'], ds.XTIME[:]),'lat': (['lat'], ds.XLAT[0,:,0]), 'lon': (['lon'], ds.XLONG[0,0,:])}\n",
    "    p = xr.Dataset(data, coords=coords)\n",
    "    return p\n",
    "\n",
    "p={}\n",
    "for k,v in s.items():\n",
    "    p.update({k:get_pollutants(v)})\n",
    "\n",
    "#put in a dictionary \n",
    "mod={'exch_base':p['exch_base'],'exch_0.5':p['exch_0.5'], 'exch_5':p['exch_5'], 'exch_50':p['exch_50']}\n",
    "mod_all={'exch_base':p['exch_base'],'exch_0.5':p['exch_0.5'], 'exch_5':p['exch_5'], 'exch_50':p['exch_50']}"
   ]
  },
  {
   "cell_type": "code",
   "execution_count": 8,
   "metadata": {},
   "outputs": [],
   "source": [
    "# extract Delhi NCT data only\n",
    "from WRFChemToolkit.analysis import aerosols_202 as aer, plots as pt, statistics as st\n",
    "import salem\n",
    "shp = '/exports/csce/datastore/geos/users/s1878599/phd_work/DelhiNCT/gadm_data/delhiNCT/delhiNCT.shp'\n",
    "\n",
    "for k,v in mod.items():\n",
    "    mod[k]= mod[k].salem.roi(shape=shp)"
   ]
  },
  {
   "cell_type": "markdown",
   "metadata": {},
   "source": [
    "## Load observations data over NCT"
   ]
  },
  {
   "cell_type": "code",
   "execution_count": 10,
   "metadata": {},
   "outputs": [],
   "source": [
    "# load observations data\n",
    "pth ='../observations/cpcb_oct2019_cleaned.xlsx'  # new downloaded direclty from CPCB website.\n",
    "data=pd.read_excel(pth)"
   ]
  },
  {
   "cell_type": "code",
   "execution_count": 11,
   "metadata": {},
   "outputs": [],
   "source": [
    "# add utc time to observations\n",
    "from datetime import timedelta\n",
    "data['date_UTC'] = pd.to_datetime(data['date_UTC'], format='%Y-%m-%d %H:%M:%S')\n",
    "#select observation corresponding to model output time range (UTC)\n",
    "data_new=data.set_index('date_UTC')[str(mod['exch_5'].time.min().values):str(mod['exch_5'].time.max().values)].reset_index()  "
   ]
  },
  {
   "cell_type": "code",
   "execution_count": 12,
   "metadata": {},
   "outputs": [
    {
     "data": {
      "text/plain": [
       "Timestamp('2019-10-16 00:00:00')"
      ]
     },
     "execution_count": 12,
     "metadata": {},
     "output_type": "execute_result"
    }
   ],
   "source": [
    "data_new.date_UTC.max()"
   ]
  },
  {
   "cell_type": "code",
   "execution_count": 13,
   "metadata": {},
   "outputs": [],
   "source": [
    "#create dict with datasets with dyno mean and std (local time)\n",
    "obs={}\n",
    "pol=['pm25','o3','nox']\n",
    "for p in pol:\n",
    "    df = data_new[['hour_LT',p]].groupby('hour_LT').agg({'mean', 'std'})[p].add_prefix(p + \"_obs_\").reset_index()\n",
    "    obs.update({p:df})"
   ]
  },
  {
   "cell_type": "markdown",
   "metadata": {},
   "source": [
    "## Definition of metrics and plot functions"
   ]
  },
  {
   "cell_type": "code",
   "execution_count": 14,
   "metadata": {},
   "outputs": [],
   "source": [
    "import scipy.stats as ss\n",
    "import statsmodels.api as sm\n",
    "import numpy as np\n",
    "\n",
    "def len_err(x,y):\n",
    "    if len(x) != len(y):\n",
    "        raise Exception(\"Number of observation datapoints is different from number of model datapoints.\")\n",
    "\n",
    "\n",
    "def get_MB(o,m):\n",
    "    \"Calculate the mean bias from model and observation. m and o are array of model and observations.\"\n",
    "    len_err(o,m)\n",
    "    return sum(m-o)/len(o)\n",
    "\n",
    "def get_NMB(o,m):\n",
    "    \"Normalised mean bias\"\n",
    "    len_err(o,m)\n",
    "    return sum(m-o)/sum(o)\n",
    "\n",
    "def get_RMSE(o,m):\n",
    "    \"Normalised mean bias\"\n",
    "    len_err(m,o)\n",
    "    return (sum((m-o)**2)/len(o))**0.5\n",
    "\n",
    "def get_NMAE(o,m):\n",
    "    \"Normalised mean absolute error\"\n",
    "    len_err(o,m)\n",
    "    return sum(abs(m-o))/sum(o)\n",
    "\n",
    "def get_r(o,m):\n",
    "    import scipy.stats as ss\n",
    "    \"pearson coefficient and p value\"\n",
    "    len_err(o,m)\n",
    "    return ss.pearsonr(o,m)\n",
    "\n",
    "def get_fit(o,m):\n",
    "    \"linear regression slope values\"\n",
    "    model = sm.OLS(m, o)\n",
    "    ln=model.fit()\n",
    "    return ln.params"
   ]
  },
  {
   "cell_type": "code",
   "execution_count": 15,
   "metadata": {},
   "outputs": [],
   "source": [
    "# create dataframe where to save metrics\n",
    "metr = pd.DataFrame(columns= [\"pollutant\",\"pbl_scheme\",\"NMB\",\"NMAE\",\"MB [ug/m3]\",\"RMSE [ug/m3]\",\"r\"])\n",
    "metr['pbl_scheme'] =['exch_base']+['exch_0.5']+['exch_5']+['exch_50']\n",
    "metr['pollutant'] = [\"pm25\"]*4\n",
    "metr= metr.sort_values([\"pollutant\",'pbl_scheme'])"
   ]
  },
  {
   "cell_type": "code",
   "execution_count": 16,
   "metadata": {
    "scrolled": true
   },
   "outputs": [
    {
     "data": {
      "text/html": [
       "<div>\n",
       "<style scoped>\n",
       "    .dataframe tbody tr th:only-of-type {\n",
       "        vertical-align: middle;\n",
       "    }\n",
       "\n",
       "    .dataframe tbody tr th {\n",
       "        vertical-align: top;\n",
       "    }\n",
       "\n",
       "    .dataframe thead th {\n",
       "        text-align: right;\n",
       "    }\n",
       "</style>\n",
       "<table border=\"1\" class=\"dataframe\">\n",
       "  <thead>\n",
       "    <tr style=\"text-align: right;\">\n",
       "      <th></th>\n",
       "      <th>pollutant</th>\n",
       "      <th>pbl_scheme</th>\n",
       "      <th>NMB</th>\n",
       "      <th>NMAE</th>\n",
       "      <th>MB [ug/m3]</th>\n",
       "      <th>RMSE [ug/m3]</th>\n",
       "      <th>r</th>\n",
       "    </tr>\n",
       "  </thead>\n",
       "  <tbody>\n",
       "    <tr>\n",
       "      <th>1</th>\n",
       "      <td>pm25</td>\n",
       "      <td>exch_0.5</td>\n",
       "      <td>NaN</td>\n",
       "      <td>NaN</td>\n",
       "      <td>NaN</td>\n",
       "      <td>NaN</td>\n",
       "      <td>NaN</td>\n",
       "    </tr>\n",
       "    <tr>\n",
       "      <th>2</th>\n",
       "      <td>pm25</td>\n",
       "      <td>exch_5</td>\n",
       "      <td>NaN</td>\n",
       "      <td>NaN</td>\n",
       "      <td>NaN</td>\n",
       "      <td>NaN</td>\n",
       "      <td>NaN</td>\n",
       "    </tr>\n",
       "    <tr>\n",
       "      <th>3</th>\n",
       "      <td>pm25</td>\n",
       "      <td>exch_50</td>\n",
       "      <td>NaN</td>\n",
       "      <td>NaN</td>\n",
       "      <td>NaN</td>\n",
       "      <td>NaN</td>\n",
       "      <td>NaN</td>\n",
       "    </tr>\n",
       "    <tr>\n",
       "      <th>0</th>\n",
       "      <td>pm25</td>\n",
       "      <td>exch_base</td>\n",
       "      <td>NaN</td>\n",
       "      <td>NaN</td>\n",
       "      <td>NaN</td>\n",
       "      <td>NaN</td>\n",
       "      <td>NaN</td>\n",
       "    </tr>\n",
       "  </tbody>\n",
       "</table>\n",
       "</div>"
      ],
      "text/plain": [
       "  pollutant pbl_scheme  NMB NMAE MB [ug/m3] RMSE [ug/m3]    r\n",
       "1      pm25   exch_0.5  NaN  NaN        NaN          NaN  NaN\n",
       "2      pm25     exch_5  NaN  NaN        NaN          NaN  NaN\n",
       "3      pm25    exch_50  NaN  NaN        NaN          NaN  NaN\n",
       "0      pm25  exch_base  NaN  NaN        NaN          NaN  NaN"
      ]
     },
     "execution_count": 16,
     "metadata": {},
     "output_type": "execute_result"
    }
   ],
   "source": [
    "metr"
   ]
  },
  {
   "cell_type": "code",
   "execution_count": 17,
   "metadata": {},
   "outputs": [],
   "source": [
    "import matplotlib.pyplot as plt\n",
    "def plot_avg_Delhi_ax_multi(mod_dict,df_o,spc,ax):\n",
    "    \n",
    "    ax.errorbar(df_o['hour_LT'],df_o[spc+'_obs_mean'],fmt='o-',alpha=0.75,markersize=8, label = \"OBS\")\n",
    "   \n",
    "    for k in mod_dict.keys():\n",
    "        df_m=mod_dict[k][spc]\n",
    "        ax.errorbar(df_m['hour'],df_m['mod_'+spc+'_mean'],markersize=8,label = k)\n",
    "    \n",
    "        ax.set_ylabel('$\\mu g~m^{-3}$',fontsize=12)\n",
    "        \n",
    "        ax.legend(loc=[1.05,0.25],fontsize=12)\n",
    "\n",
    "    \n",
    "    # shadows errors\n",
    "    ax.fill_between(df_o['hour_LT'], df_o[spc+'_obs_mean']+ df_o[spc+'_obs_std'], df_o[spc+'_obs_mean']- df_o[spc+'_obs_std'],alpha=0.3)\n",
    "    \n",
    "    #plt.style.use('seaborn-darkgrid')"
   ]
  },
  {
   "cell_type": "markdown",
   "metadata": {},
   "source": [
    "# Compare model vs observations at stations "
   ]
  },
  {
   "cell_type": "code",
   "execution_count": 18,
   "metadata": {},
   "outputs": [],
   "source": [
    "#data: create dict with datasets with dyno mean and std in Local Time\n",
    "data['date_LT'] = pd.to_datetime(data['date_LT'], format='%Y-%m-%d %H:%M:%S')\n",
    "data['hour']=data['date_LT'].dt.hour\n",
    "#select observation corresponding to model output time range (UTC)\n",
    "data_new=data.set_index('date_UTC')[str(mod['exch_5'].time.min().values):str(mod['exch_5'].time.max().values)].reset_index()  \n",
    "dyno_st=data_new.groupby(['station','hour']).mean().reset_index()"
   ]
  },
  {
   "cell_type": "code",
   "execution_count": 19,
   "metadata": {},
   "outputs": [
    {
     "name": "stdout",
     "output_type": "stream",
     "text": [
      "exch_base\n",
      "exch_0.5\n",
      "exch_5\n",
      "exch_50\n"
     ]
    }
   ],
   "source": [
    "#model: create datasets with dyno mean and std in Local Time by station\n",
    "from datetime import timedelta\n",
    "mod_latlon={'exch_base':{},'exch_0.5':{},'exch_5':{},'exch_50':{}}\n",
    "for k in mod_latlon.keys():\n",
    "    print(k)\n",
    "    temp={}\n",
    "    for v in mod_all[k].data_vars:\n",
    "        df = mod_all[k][v].to_dataframe().reset_index()\n",
    "        # get local time\n",
    "        df['date_LT'] = df['time'] +timedelta(hours=5.5) # son 5.5 hr\n",
    "        df['hour'] = df['date_LT'].dt.hour\n",
    "        df.drop('time',axis=1, inplace=True)\n",
    "       \n",
    "        # groupby hour\n",
    "        df=df.groupby(['lat','lon','hour']).agg({'mean', 'std'})[v].add_prefix(v + \"_\")\n",
    "        temp.update({v:df.to_xarray()})\n",
    "    mod_latlon.update({k: temp})"
   ]
  },
  {
   "cell_type": "code",
   "execution_count": 20,
   "metadata": {},
   "outputs": [],
   "source": [
    "# subset model outputs to correspond to  observation (lat,lon)"
   ]
  },
  {
   "cell_type": "code",
   "execution_count": 21,
   "metadata": {},
   "outputs": [],
   "source": [
    "mod_n={'exch_base':{},'exch_0.5':{},'exch_5':{},'exch_50':{}}\n",
    "po=['pm25']\n",
    "for t in mod_latlon.keys():\n",
    "    o=dyno_st.copy()\n",
    "    for k in po:  # POLL loop over pollutants df in observations.\n",
    "    \n",
    "        o[\"mod_time\"]=0.0\n",
    "        o[\"mod_lat\"]=0.0   # add columns to store model data\n",
    "        o[\"mod_lon\"]=0.0 \n",
    "        o[\"mod_\"+k]=0.0 \n",
    "        o[\"mod_pblh\"]=0.0\n",
    "        o[\"mod_\"+k+'_std']=0.0\n",
    "        \n",
    "        da = mod_latlon[t][k]\n",
    "        for idx, row in o.iterrows():# get model values row by row\n",
    "            #da = mod[row[\"season\"]][k] # select relevant data array based on season and pollutant\n",
    "            m = da.sel( # get model gridpoint closest to obs lat lon(nearest method) \n",
    "                   lat=row[\"lat\"],\n",
    "                   lon=row[\"lon\"],\n",
    "                   method='nearest') \n",
    "            m=m.sel(hour=row['hour'])  #get only times in the data.\n",
    "            o[\"mod_time\"][idx]=str(m.hour.values)\n",
    "            o[\"mod_lat\"][idx]=float(m.lat) # save lat, lon and pollutant value as separate columns\n",
    "            o[\"mod_lon\"][idx]=float(m.lon)\n",
    "            o[\"mod_\"+k][idx]=float(m[k+'_mean'])\n",
    "            o[\"mod_\"+k+'_std'][idx]=float(m[k+'_std'])\n",
    "       \n",
    "    # add pblh\n",
    "            da_pb = mod_latlon[t]['PBLH']\n",
    "            m_pb = da_pb.sel( # get model gridpoint closest to obs lat lon(nearest method) \n",
    "                  lat=row[\"lat\"],\n",
    "                   lon=row[\"lon\"],\n",
    "                   method='nearest') \n",
    "            m_pb=m_pb.sel(hour=row['hour'])  #get only times in the data.\n",
    "            o['mod_pblh'][idx]=float(m_pb['PBLH_mean'])  \n",
    "    mod_n[t]=o"
   ]
  },
  {
   "cell_type": "code",
   "execution_count": 22,
   "metadata": {},
   "outputs": [],
   "source": [
    "#create dict with datasets with dyno mean and std in Local Time\n",
    "from datetime import timedelta\n",
    "mod_comp={}\n",
    "for t in mod_latlon.keys():\n",
    "    d={}\n",
    "    for v in po:\n",
    "        # grupby hour\n",
    "        dfo=mod_n[t].groupby('hour').agg({'mean', 'std'})[v].add_prefix(v + \"_\").reset_index()\n",
    "        dfm=mod_n[t].groupby('hour').agg({'mean', 'std'})['mod_'+v].add_prefix('mod_'+v + \"_\").reset_index()\n",
    "        d.update({v:pd.merge(dfo,dfm)})\n",
    "    mod_comp[t]=d"
   ]
  },
  {
   "cell_type": "code",
   "execution_count": 23,
   "metadata": {},
   "outputs": [
    {
     "name": "stdout",
     "output_type": "stream",
     "text": [
      "exch_base\n",
      "exch_0.5\n",
      "exch_5\n",
      "exch_50\n"
     ]
    }
   ],
   "source": [
    "# Calculate metrics for each pollutant and each season\n",
    "for s in mod_latlon.keys():\n",
    "    print(s)\n",
    "    for k,v in mod_comp[s].items(): # loop over pollutants df in observations.                      \n",
    "        o=mod_comp[s][k][k+'_mean'].apply(np.array)     # get array of observations and values by season\n",
    "        m=mod_comp[s][k]['mod_'+k+'_mean'].apply(np.array)\n",
    "        metr.loc[(metr.pbl_scheme == s) & (metr.pollutant==k),\"MB [ug/m3]\"] =get_MB(o,m) \n",
    "        metr.loc[(metr.pbl_scheme == s) & (metr.pollutant==k), \"NMB\"] = get_NMB(o,m) \n",
    "        metr.loc[(metr.pbl_scheme== s) & (metr.pollutant==k), \"RMSE [ug/m3]\"] = get_RMSE(o,m)\n",
    "        metr.loc[(metr.pbl_scheme == s) & (metr.pollutant==k), \"NMAE\"] = get_NMAE(o,m) \n",
    "        metr.loc[(metr.pbl_scheme == s) & (metr.pollutant==k), \"r\"] =get_r(o,m)[0]"
   ]
  },
  {
   "cell_type": "code",
   "execution_count": 24,
   "metadata": {},
   "outputs": [
    {
     "name": "stdout",
     "output_type": "stream",
     "text": [
      "pm25\n"
     ]
    },
    {
     "data": {
      "image/png": "[encoded data removed]",
      "text/plain": [
       "<Figure size 504x216 with 1 Axes>"
      ]
     },
     "metadata": {
      "needs_background": "light"
     },
     "output_type": "display_data"
    }
   ],
   "source": [
    "# plot\n",
    "\n",
    "fig, axes = plt.subplots(1,1,figsize=(7,3))\n",
    "for p,ax in zip(['pm25'],fig.axes):\n",
    "    print(p)\n",
    "    plot_avg_Delhi_ax_multi(mod_comp,obs[p],p,ax)\n",
    "    \n",
    "for ax in fig.axes:\n",
    "#   if  ax==fig.axes[7]  or ax==fig.axes[6]:\n",
    "    ax.set_xlabel('time (LT)', fontsize=12)\n",
    "    ax.tick_params(axis='both', labelsize=12)\n",
    "#    else:\n",
    "#        ax.xaxis.set_ticklabels([])\n",
    "\n",
    "#fig.delaxes(fig.axes[])\n",
    "fig.tight_layout()\n"
   ]
  },
  {
   "cell_type": "code",
   "execution_count": 25,
   "metadata": {},
   "outputs": [],
   "source": [
    "#fig.savefig('./figS2.pdf', format='pdf', dpi=300)"
   ]
  }
 ],
 "metadata": {
  "kernelspec": {
   "display_name": "Python 3",
   "language": "python",
   "name": "python3"
  },
  "language_info": {
   "codemirror_mode": {
    "name": "ipython",
    "version": 3
   },
   "file_extension": ".py",
   "mimetype": "text/x-python",
   "name": "python",
   "nbconvert_exporter": "python",
   "pygments_lexer": "ipython3",
   "version": "3.8.2"
  }
 },
 "nbformat": 4,
 "nbformat_minor": 4
}
