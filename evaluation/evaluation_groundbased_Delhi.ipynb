{
 "cells": [
  {
   "cell_type": "markdown",
   "metadata": {},
   "source": [
    "This notebook evaluate WRF-Chem modeled surface pollutants with ground based observations over Delhi NCT."
   ]
  },
  {
   "cell_type": "code",
   "execution_count": 1,
   "metadata": {},
   "outputs": [],
   "source": [
    "#import modules\n",
    "%run ../load_main.py\n",
    "from Air_Quality_notebooks import utils as utl\n",
    "from WRFChemToolkit.analysis import statistics as st"
   ]
  },
  {
   "cell_type": "markdown",
   "metadata": {},
   "source": [
    "## Get model Delhi NCT data"
   ]
  },
  {
   "cell_type": "code",
   "execution_count": 2,
   "metadata": {},
   "outputs": [],
   "source": [
    "# laod otuputs\n",
    "post=xr.open_mfdataset('/exports/geos.ed.ac.uk/palmer_group/managed/s1878599/delhiAQ/delhiNCT/outputs_postmon/pblmincoeff_tests/wrfout_d01_2019-10-*_00:00:00_nest_2019_newdyno_exchmin5.nc')"
   ]
  },
  {
   "cell_type": "code",
   "execution_count": 3,
   "metadata": {},
   "outputs": [],
   "source": [
    "#season\n",
    "season='postmonsoon'"
   ]
  },
  {
   "cell_type": "code",
   "execution_count": 4,
   "metadata": {},
   "outputs": [],
   "source": [
    "#put data in dictionary\n",
    "s={'post':post}"
   ]
  },
  {
   "cell_type": "code",
   "execution_count": 5,
   "metadata": {},
   "outputs": [],
   "source": [
    "def reset_time_dim(ds):\n",
    "    \"\"\"\n",
    "    Time dimension in WRF-Chem datasets is just the time index [0,1,2,3...].\n",
    "    This function convert dimension Time as datetime[64].\n",
    "    :param ds:\n",
    "     wrf-chem xarray dataset.\n",
    "    :type ds:xarray.Dataset.\n",
    "    :return:\n",
    "     xarray.Dataset with datetime time dim.\n",
    "    :rtype: xarray.Dataset.\n",
    "    \"\"\"\n",
    "    return ds.assign_coords(Time=pd.to_datetime(ds.XTIME.values))"
   ]
  },
  {
   "cell_type": "code",
   "execution_count": 6,
   "metadata": {},
   "outputs": [],
   "source": [
    "# reset time and discard 5 days  spinup period.\n",
    "s['post']=reset_time_dim(s['post']).sel(Time=slice('2019-10-06T00:00:00.000000000','2019-10-16T00:00:00.000000000')) # 5 days"
   ]
  },
  {
   "cell_type": "code",
   "execution_count": 7,
   "metadata": {},
   "outputs": [],
   "source": [
    "# subset surface values of relevant pollutants."
   ]
  },
  {
   "cell_type": "code",
   "execution_count": 8,
   "metadata": {},
   "outputs": [],
   "source": [
    "# define conversions from ppmv (wrfchem model) to ug/m3 (observations)\n",
    "def gas_ppm_to_ugm3(ds,gas,mol_w):\n",
    "    \"\"\"Convert gas from ppmv to ug/m3 based on molar weight of gas\n",
    "    from  https://www.acom.ucar.edu/wrf-chem/ConversionMozartWRFChem.pdf\"\"\"\n",
    "    ds[gas + \"_ugm3\"]=((ds[gas]/1e6)*(mol_w/29)*1e9)/ds.ALT\n",
    "    ds[gas + \"_ugm3\"].attrs[\"units\"]=\"ug m-3\"\n",
    "\n",
    "#gas pollutants and their molar weight.\n",
    "mw={\"o3\":48} \n",
    "\n",
    "# add converted quantitites\n",
    "for v in s.values():\n",
    "    for p,m in mw.items():\n",
    "            gas_ppm_to_ugm3(v,p,m)"
   ]
  },
  {
   "cell_type": "code",
   "execution_count": 9,
   "metadata": {},
   "outputs": [],
   "source": [
    "# define function to get pollutants and variables of interest.\n",
    "def get_pollutants(ds):\n",
    "    \n",
    "    data ={ \n",
    "           \"pm25\" : (['time',\"lat\",\"lon\"], ds.PM2_5_DRY.values[:,0,:,:]),           \n",
    "           \"PBLH\" : (['time',\"lat\",\"lon\"], ds.PBLH.values[:,:,:]),\n",
    "          }\n",
    "    coords={'time': (['time'], ds.XTIME[:]),'lat': (['lat'], ds.XLAT[0,:,0]), 'lon': (['lon'], ds.XLONG[0,0,:])}\n",
    "    p = xr.Dataset(data, coords=coords)\n",
    "    return p"
   ]
  },
  {
   "cell_type": "code",
   "execution_count": 10,
   "metadata": {},
   "outputs": [],
   "source": [
    "# get selected pollutants in a dictionary by season\n",
    "mod={}\n",
    "for k,v in s.items():\n",
    "    mod.update({k:get_pollutants(v)})"
   ]
  },
  {
   "cell_type": "code",
   "execution_count": 11,
   "metadata": {},
   "outputs": [],
   "source": [
    "# extract Delhi NCT data only using shapefile\n",
    "from WRFChemToolkit.analysis import aerosols_202 as aer, plots as pt, statistics as st\n",
    "import salem\n",
    "shp = '../gadm_data/delhiNCT/delhiNCT.shp'\n",
    "for k,v in mod.items():\n",
    "    mod[k]= mod[k].salem.roi(shape=shp)"
   ]
  },
  {
   "cell_type": "markdown",
   "metadata": {},
   "source": [
    "# Get observations over Delhi NCT"
   ]
  },
  {
   "cell_type": "code",
   "execution_count": 12,
   "metadata": {},
   "outputs": [],
   "source": [
    "# load observations data\n",
    "pth ='../observations/cpcb_oct2019_cleaned.xlsx'  # new downloaded direclty from CPCB website.\n",
    "data=pd.read_excel(pth)"
   ]
  },
  {
   "cell_type": "code",
   "execution_count": 13,
   "metadata": {},
   "outputs": [],
   "source": [
    "# add utc time to observations\n",
    "from datetime import timedelta\n",
    "data['date_UTC'] = pd.to_datetime(data['date_UTC'], format='%Y-%m-%d %H:%M:%S')\n",
    "\n",
    "#select observation corresponding to model output time range (UTC)\n",
    "data=data.set_index('date_UTC')[str(mod['post'].time.min().values):str(mod['post'].time.max().values)].reset_index() "
   ]
  },
  {
   "cell_type": "code",
   "execution_count": 14,
   "metadata": {},
   "outputs": [
    {
     "data": {
      "text/plain": [
       "Timestamp('2019-10-06 00:00:00')"
      ]
     },
     "execution_count": 14,
     "metadata": {},
     "output_type": "execute_result"
    }
   ],
   "source": [
    "data.date_UTC.min()"
   ]
  },
  {
   "cell_type": "code",
   "execution_count": 15,
   "metadata": {},
   "outputs": [
    {
     "data": {
      "text/plain": [
       "numpy.datetime64('2019-10-16T00:00:00.000000000')"
      ]
     },
     "execution_count": 15,
     "metadata": {},
     "output_type": "execute_result"
    }
   ],
   "source": [
    "mod['post'].time.max().values"
   ]
  },
  {
   "cell_type": "code",
   "execution_count": 16,
   "metadata": {},
   "outputs": [],
   "source": [
    "#create dict with datasets with dyno mean and std\n",
    "obs={}\n",
    "pol=['pm25'] \n",
    "for pl in pol:\n",
    "    df = data[['hour_LT',pl]].groupby('hour_LT').agg({'mean', 'std'})[pl].add_prefix(pl + \"_obs_\").reset_index().rename(columns={'hour_LT':'hour'})\n",
    "    obs.update({pl:df})"
   ]
  },
  {
   "cell_type": "code",
   "execution_count": 17,
   "metadata": {},
   "outputs": [
    {
     "data": {
      "text/plain": [
       "94.8598381051042"
      ]
     },
     "execution_count": 17,
     "metadata": {},
     "output_type": "execute_result"
    }
   ],
   "source": [
    "obs['pm25'].pm25_obs_mean.mean()"
   ]
  },
  {
   "cell_type": "markdown",
   "metadata": {},
   "source": [
    "# Define evaluation metrics"
   ]
  },
  {
   "cell_type": "code",
   "execution_count": 18,
   "metadata": {},
   "outputs": [],
   "source": [
    "# import scipy.stats as ss\n",
    "import statsmodels.api as sm\n",
    "import numpy as np\n",
    "\n",
    "def len_err(x,y):\n",
    "    if len(x) != len(y):\n",
    "        raise Exception(\"Number of observation datapoints is different from number of model datapoints.\")\n",
    "\n",
    "\n",
    "def get_MB(o,m):\n",
    "    \"Calculate the mean bias from model and observation. m and o are array of model and observations.\"\n",
    "    len_err(o,m)\n",
    "    return sum(m-o)/len(o)\n",
    "\n",
    "def get_NMB(o,m):\n",
    "    \"Normalised mean bias\"\n",
    "    len_err(o,m)\n",
    "    return sum(m-o)/sum(o)\n",
    "\n",
    "def get_RMSE(o,m):\n",
    "    \"Normalised mean bias\"\n",
    "    len_err(m,o)\n",
    "    return (sum((m-o)**2)/len(o))**0.5\n",
    "\n",
    "def get_NMAE(o,m):\n",
    "    \"Normalised mean absolute error\"\n",
    "    len_err(o,m)\n",
    "    return sum(abs(m-o))/sum(o)\n",
    "\n",
    "def get_r(o,m):\n",
    "    import scipy.stats as ss\n",
    "    \"pearson coefficient and p value\"\n",
    "    len_err(o,m)\n",
    "    return ss.pearsonr(o,m)\n",
    "\n",
    "def get_fit(o,m):\n",
    "    \"linear regression slope values\"\n",
    "    model = sm.OLS(m, o)\n",
    "    ln=model.fit()\n",
    "    return ln.params"
   ]
  },
  {
   "cell_type": "code",
   "execution_count": 19,
   "metadata": {},
   "outputs": [],
   "source": [
    "# create dataframe where to save metrics\n",
    "metr = pd.DataFrame(columns= [\"pollutant\",\"season\",\"NMB\",\"NMAE\",\"MB [ug/m3]\",\"RMSE [ug/m3]\",\"r\"])\n",
    "metr['season'] =['post']\n",
    "metr['pollutant'] = [\"pm25\"]\n",
    "metr= metr.sort_values([\"pollutant\",\"season\"])"
   ]
  },
  {
   "cell_type": "code",
   "execution_count": 20,
   "metadata": {
    "scrolled": true
   },
   "outputs": [
    {
     "data": {
      "text/html": [
       "<div>\n",
       "<style scoped>\n",
       "    .dataframe tbody tr th:only-of-type {\n",
       "        vertical-align: middle;\n",
       "    }\n",
       "\n",
       "    .dataframe tbody tr th {\n",
       "        vertical-align: top;\n",
       "    }\n",
       "\n",
       "    .dataframe thead th {\n",
       "        text-align: right;\n",
       "    }\n",
       "</style>\n",
       "<table border=\"1\" class=\"dataframe\">\n",
       "  <thead>\n",
       "    <tr style=\"text-align: right;\">\n",
       "      <th></th>\n",
       "      <th>pollutant</th>\n",
       "      <th>season</th>\n",
       "      <th>NMB</th>\n",
       "      <th>NMAE</th>\n",
       "      <th>MB [ug/m3]</th>\n",
       "      <th>RMSE [ug/m3]</th>\n",
       "      <th>r</th>\n",
       "    </tr>\n",
       "  </thead>\n",
       "  <tbody>\n",
       "    <tr>\n",
       "      <th>0</th>\n",
       "      <td>pm25</td>\n",
       "      <td>post</td>\n",
       "      <td>NaN</td>\n",
       "      <td>NaN</td>\n",
       "      <td>NaN</td>\n",
       "      <td>NaN</td>\n",
       "      <td>NaN</td>\n",
       "    </tr>\n",
       "  </tbody>\n",
       "</table>\n",
       "</div>"
      ],
      "text/plain": [
       "  pollutant season  NMB NMAE MB [ug/m3] RMSE [ug/m3]    r\n",
       "0      pm25   post  NaN  NaN        NaN          NaN  NaN"
      ]
     },
     "execution_count": 20,
     "metadata": {},
     "output_type": "execute_result"
    }
   ],
   "source": [
    "metr"
   ]
  },
  {
   "cell_type": "code",
   "execution_count": 21,
   "metadata": {},
   "outputs": [],
   "source": [
    "# Define plots functions"
   ]
  },
  {
   "cell_type": "code",
   "execution_count": 22,
   "metadata": {},
   "outputs": [],
   "source": [
    "import matplotlib.pyplot as plt\n",
    "def plot_avg_Delhi_ax(df_m,df_o,spc,ax):\n",
    "    ax.errorbar(df_o[spc]['hour'],df_o[spc][spc+'_obs_mean'],fmt='o-',markersize=8,label='OBS',color='#5D3A9B')\n",
    "    ax.errorbar(df_m[spc]['hour'],df_m[spc][spc+'_mod_mean'],fmt='o-',markersize=8,label='MOD',color='#E66100') \n",
    "    #ax.set_title('average dyno over Delhi - '+spc)\n",
    "\n",
    "    ax.set_ylabel('$\\mu g~m^{-3}$',fontsize=12)\n",
    "        \n",
    "    ax.legend(ncol=2,loc=[0.2,1.01],fontsize=12)\n",
    "    \n",
    "    # shadows errors\n",
    "    ax.fill_between(df_o[spc]['hour'], df_o[spc][spc+'_obs_mean']+ df_o[spc][spc+'_obs_std'], df_o[spc][spc+'_obs_mean']- df_o[spc][spc+'_obs_std'],alpha=0.3,color='#5D3A9B')\n",
    "    ax.fill_between(df_o[spc]['hour'], df_m[spc][spc+'_mod_mean']+ df_m[spc][spc+'_mod_std'], df_m[spc][spc+'_mod_mean']- df_m[spc][spc+'_mod_std'], alpha=0.3,color='#E66100')\n",
    "   \n",
    "    \n",
    "    # add PBL height\n",
    "    ax2 = ax.twinx()  # instantiate a second axes that shares the same x-axis\n",
    "    ax2.plot(df_m['PBLH']['hour'],df_m['PBLH']['PBLH_mod_mean'],'-',linewidth=1,label = \"PBLH\",color='grey',linestyle='-')\n",
    "    ax2.set_ylabel('meters',fontsize=12)\n",
    "    ax2.legend(ncol=1,loc=[0.65,1.01],fontsize=12)\n",
    "\n",
    "    plt.style.use('seaborn-bright')"
   ]
  },
  {
   "cell_type": "markdown",
   "metadata": {},
   "source": [
    "## Dyno cycle evalaution: average over all NCT model gridpoints vs average over all obs stations"
   ]
  },
  {
   "cell_type": "code",
   "execution_count": 23,
   "metadata": {},
   "outputs": [],
   "source": [
    "# Spatial average over Delhi NCT \n",
    "mod_sp={}\n",
    "for k,v in mod.items():\n",
    "    mod_sp[k]= mod[k].mean(['lat','lon'])"
   ]
  },
  {
   "cell_type": "code",
   "execution_count": 24,
   "metadata": {},
   "outputs": [],
   "source": [
    "#create dict with datasets with dyno mean and std in Local Time\n",
    "from datetime import timedelta\n",
    "model={}\n",
    "for v in mod['post'].data_vars:\n",
    "    df = mod['post'][v].to_dataframe().reset_index()\n",
    "    # get local time\n",
    "    df['date_LT'] = df['time'] +timedelta(hours=5.5)\n",
    "    df['hour'] = df['date_LT'].dt.hour\n",
    "    df.drop('time',axis=1, inplace=True)\n",
    "    \n",
    "    # groupby hour\n",
    "    df=df.groupby('hour').agg({'mean', 'std'})[v].add_prefix(v + \"_mod_\").reset_index()\n",
    "    model.update({v:df})\n",
    "    # TO DO: NEED TO ADD VARIABILITY ON SPATIAL AVERAGE AS WELL. THIS IS ONLY TIME AVERAGE."
   ]
  },
  {
   "cell_type": "code",
   "execution_count": 25,
   "metadata": {},
   "outputs": [
    {
     "data": {
      "text/plain": [
       "102.83853912353516"
      ]
     },
     "execution_count": 25,
     "metadata": {},
     "output_type": "execute_result"
    }
   ],
   "source": [
    "model['pm25'].pm25_mod_mean.mean()"
   ]
  },
  {
   "cell_type": "code",
   "execution_count": 26,
   "metadata": {
    "scrolled": true
   },
   "outputs": [
    {
     "name": "stdout",
     "output_type": "stream",
     "text": [
      "pm25\n"
     ]
    }
   ],
   "source": [
    "# Calculate metrics for each pollutant and each season\n",
    "s='post'\n",
    "for k,v in obs.items(): # loop over pollutants df in observations.\n",
    "    print(k)                       \n",
    "    o=obs[k][k+'_obs_mean'].apply(np.array)     # get array of observations and values by season\n",
    "    m=model[k][k+'_mod_mean'].apply(np.array)\n",
    "    metr.loc[(metr.season == s) & (metr.pollutant==k),\"MB [ug/m3]\"] =get_MB(o,m) \n",
    "    metr.loc[(metr.season == s) & (metr.pollutant==k), \"NMB\"] = get_NMB(o,m) \n",
    "    metr.loc[(metr.season == s) & (metr.pollutant==k), \"RMSE [ug/m3]\"] = get_RMSE(o,m)\n",
    "    metr.loc[(metr.season == s) & (metr.pollutant==k), \"NMAE\"] = get_NMAE(o,m) \n",
    "    metr.loc[(metr.season == s) & (metr.pollutant==k), \"r\"] =get_r(o,m)[0]"
   ]
  },
  {
   "cell_type": "code",
   "execution_count": 27,
   "metadata": {},
   "outputs": [
    {
     "data": {
      "text/html": [
       "<div>\n",
       "<style scoped>\n",
       "    .dataframe tbody tr th:only-of-type {\n",
       "        vertical-align: middle;\n",
       "    }\n",
       "\n",
       "    .dataframe tbody tr th {\n",
       "        vertical-align: top;\n",
       "    }\n",
       "\n",
       "    .dataframe thead th {\n",
       "        text-align: right;\n",
       "    }\n",
       "</style>\n",
       "<table border=\"1\" class=\"dataframe\">\n",
       "  <thead>\n",
       "    <tr style=\"text-align: right;\">\n",
       "      <th></th>\n",
       "      <th>pollutant</th>\n",
       "      <th>season</th>\n",
       "      <th>NMB</th>\n",
       "      <th>NMAE</th>\n",
       "      <th>MB [ug/m3]</th>\n",
       "      <th>RMSE [ug/m3]</th>\n",
       "      <th>r</th>\n",
       "    </tr>\n",
       "  </thead>\n",
       "  <tbody>\n",
       "    <tr>\n",
       "      <th>0</th>\n",
       "      <td>pm25</td>\n",
       "      <td>post</td>\n",
       "      <td>0.0841104</td>\n",
       "      <td>0.126701</td>\n",
       "      <td>7.9787</td>\n",
       "      <td>12.8304</td>\n",
       "      <td>0.888583</td>\n",
       "    </tr>\n",
       "  </tbody>\n",
       "</table>\n",
       "</div>"
      ],
      "text/plain": [
       "  pollutant season        NMB      NMAE MB [ug/m3] RMSE [ug/m3]         r\n",
       "0      pm25   post  0.0841104  0.126701     7.9787      12.8304  0.888583"
      ]
     },
     "execution_count": 27,
     "metadata": {},
     "output_type": "execute_result"
    }
   ],
   "source": [
    "metr"
   ]
  },
  {
   "cell_type": "code",
   "execution_count": 28,
   "metadata": {},
   "outputs": [],
   "source": [
    "# plots"
   ]
  },
  {
   "cell_type": "code",
   "execution_count": 29,
   "metadata": {},
   "outputs": [
    {
     "name": "stdout",
     "output_type": "stream",
     "text": [
      "pm25\n"
     ]
    },
    {
     "data": {
      "image/png": "[encoded data removed]",
      "text/plain": [
       "<Figure size 864x360 with 2 Axes>"
      ]
     },
     "metadata": {
      "needs_background": "light"
     },
     "output_type": "display_data"
    }
   ],
   "source": [
    "fig, axes = plt.subplots(1,1,figsize=(12,5))\n",
    "for pl,ax in zip(pol,fig.axes):  #p in obs.keys()\n",
    "    print(pl)\n",
    "    plot_avg_Delhi_ax(model,obs,pl,ax)\n",
    "    \n",
    "    ax.set_xlabel('time (LT)')\n",
    "    ax.tick_params(axis='x', labelsize=10)\n",
    "            \n",
    "fig.tight_layout()\n",
    "fig.show()"
   ]
  },
  {
   "cell_type": "markdown",
   "metadata": {},
   "source": [
    "# Dyno cycle evalaution: average over all NCT at observations stations gridpoints vs average observations"
   ]
  },
  {
   "cell_type": "code",
   "execution_count": 30,
   "metadata": {},
   "outputs": [],
   "source": [
    "#create observations dictionary with dyno cycle mean and std in Local Time\n",
    "data['date_LT'] = pd.to_datetime(data['date_LT'], format='%Y-%m-%d %H:%M:%S')\n",
    "data['hour']=data['date_LT'].dt.hour\n",
    "dyno_st=data.groupby(['station','hour']).mean().reset_index()"
   ]
  },
  {
   "cell_type": "code",
   "execution_count": 31,
   "metadata": {},
   "outputs": [
    {
     "name": "stdout",
     "output_type": "stream",
     "text": [
      "pm25\n",
      "PBLH\n"
     ]
    }
   ],
   "source": [
    "#create model dicitonary with dyno mean and std in Local Time by station\n",
    "from datetime import timedelta\n",
    "mod_latlon={}\n",
    "for v in mod['post'].data_vars:\n",
    "    print(v)\n",
    "    df = mod['post'][v].to_dataframe().reset_index()\n",
    "    # get local time\n",
    "    df['date_LT'] = df['time'] +timedelta(hours=5.5) # son 5.5 hr\n",
    "    df['hour'] = df['date_LT'].dt.hour\n",
    "    df.drop('time',axis=1, inplace=True)\n",
    "    \n",
    "    # grupby hour\n",
    "    df=df.groupby(['lat','lon','hour']).agg({'mean', 'std'})[v].add_prefix(v + \"_obs_\")\n",
    "    mod_latlon.update({v:df.to_xarray()})"
   ]
  },
  {
   "cell_type": "code",
   "execution_count": 32,
   "metadata": {},
   "outputs": [
    {
     "data": {
      "text/html": [
       "<div><svg style=\"position: absolute; width: 0; height: 0; overflow: hidden\">\n",
       "<defs>\n",
       "<symbol id=\"icon-database\" viewBox=\"0 0 32 32\">\n",
       "<title>Show/Hide data repr</title>\n",
       "<path d=\"M16 0c-8.837 0-16 2.239-16 5v4c0 2.761 7.163 5 16 5s16-2.239 16-5v-4c0-2.761-7.163-5-16-5z\"></path>\n",
       "<path d=\"M16 17c-8.837 0-16-2.239-16-5v6c0 2.761 7.163 5 16 5s16-2.239 16-5v-6c0 2.761-7.163 5-16 5z\"></path>\n",
       "<path d=\"M16 26c-8.837 0-16-2.239-16-5v6c0 2.761 7.163 5 16 5s16-2.239 16-5v-6c0 2.761-7.163 5-16 5z\"></path>\n",
       "</symbol>\n",
       "<symbol id=\"icon-file-text2\" viewBox=\"0 0 32 32\">\n",
       "<title>Show/Hide attributes</title>\n",
       "<path d=\"M28.681 7.159c-0.694-0.947-1.662-2.053-2.724-3.116s-2.169-2.030-3.116-2.724c-1.612-1.182-2.393-1.319-2.841-1.319h-15.5c-1.378 0-2.5 1.121-2.5 2.5v27c0 1.378 1.122 2.5 2.5 2.5h23c1.378 0 2.5-1.122 2.5-2.5v-19.5c0-0.448-0.137-1.23-1.319-2.841zM24.543 5.457c0.959 0.959 1.712 1.825 2.268 2.543h-4.811v-4.811c0.718 0.556 1.584 1.309 2.543 2.268zM28 29.5c0 0.271-0.229 0.5-0.5 0.5h-23c-0.271 0-0.5-0.229-0.5-0.5v-27c0-0.271 0.229-0.5 0.5-0.5 0 0 15.499-0 15.5 0v7c0 0.552 0.448 1 1 1h7v19.5z\"></path>\n",
       "<path d=\"M23 26h-14c-0.552 0-1-0.448-1-1s0.448-1 1-1h14c0.552 0 1 0.448 1 1s-0.448 1-1 1z\"></path>\n",
       "<path d=\"M23 22h-14c-0.552 0-1-0.448-1-1s0.448-1 1-1h14c0.552 0 1 0.448 1 1s-0.448 1-1 1z\"></path>\n",
       "<path d=\"M23 18h-14c-0.552 0-1-0.448-1-1s0.448-1 1-1h14c0.552 0 1 0.448 1 1s-0.448 1-1 1z\"></path>\n",
       "</symbol>\n",
       "</defs>\n",
       "</svg>\n",
       "<style>/* CSS stylesheet for displaying xarray objects in jupyterlab.\n",
       " *\n",
       " */\n",
       "\n",
       ":root {\n",
       "  --xr-font-color0: var(--jp-content-font-color0, rgba(0, 0, 0, 1));\n",
       "  --xr-font-color2: var(--jp-content-font-color2, rgba(0, 0, 0, 0.54));\n",
       "  --xr-font-color3: var(--jp-content-font-color3, rgba(0, 0, 0, 0.38));\n",
       "  --xr-border-color: var(--jp-border-color2, #e0e0e0);\n",
       "  --xr-disabled-color: var(--jp-layout-color3, #bdbdbd);\n",
       "  --xr-background-color: var(--jp-layout-color0, white);\n",
       "  --xr-background-color-row-even: var(--jp-layout-color1, white);\n",
       "  --xr-background-color-row-odd: var(--jp-layout-color2, #eeeeee);\n",
       "}\n",
       "\n",
       ".xr-wrap {\n",
       "  min-width: 300px;\n",
       "  max-width: 700px;\n",
       "}\n",
       "\n",
       ".xr-header {\n",
       "  padding-top: 6px;\n",
       "  padding-bottom: 6px;\n",
       "  margin-bottom: 4px;\n",
       "  border-bottom: solid 1px var(--xr-border-color);\n",
       "}\n",
       "\n",
       ".xr-header > div,\n",
       ".xr-header > ul {\n",
       "  display: inline;\n",
       "  margin-top: 0;\n",
       "  margin-bottom: 0;\n",
       "}\n",
       "\n",
       ".xr-obj-type,\n",
       ".xr-array-name {\n",
       "  margin-left: 2px;\n",
       "  margin-right: 10px;\n",
       "}\n",
       "\n",
       ".xr-obj-type {\n",
       "  color: var(--xr-font-color2);\n",
       "}\n",
       "\n",
       ".xr-sections {\n",
       "  padding-left: 0 !important;\n",
       "  display: grid;\n",
       "  grid-template-columns: 150px auto auto 1fr 20px 20px;\n",
       "}\n",
       "\n",
       ".xr-section-item {\n",
       "  display: contents;\n",
       "}\n",
       "\n",
       ".xr-section-item input {\n",
       "  display: none;\n",
       "}\n",
       "\n",
       ".xr-section-item input + label {\n",
       "  color: var(--xr-disabled-color);\n",
       "}\n",
       "\n",
       ".xr-section-item input:enabled + label {\n",
       "  cursor: pointer;\n",
       "  color: var(--xr-font-color2);\n",
       "}\n",
       "\n",
       ".xr-section-item input:enabled + label:hover {\n",
       "  color: var(--xr-font-color0);\n",
       "}\n",
       "\n",
       ".xr-section-summary {\n",
       "  grid-column: 1;\n",
       "  color: var(--xr-font-color2);\n",
       "  font-weight: 500;\n",
       "}\n",
       "\n",
       ".xr-section-summary > span {\n",
       "  display: inline-block;\n",
       "  padding-left: 0.5em;\n",
       "}\n",
       "\n",
       ".xr-section-summary-in:disabled + label {\n",
       "  color: var(--xr-font-color2);\n",
       "}\n",
       "\n",
       ".xr-section-summary-in + label:before {\n",
       "  display: inline-block;\n",
       "  content: '►';\n",
       "  font-size: 11px;\n",
       "  width: 15px;\n",
       "  text-align: center;\n",
       "}\n",
       "\n",
       ".xr-section-summary-in:disabled + label:before {\n",
       "  color: var(--xr-disabled-color);\n",
       "}\n",
       "\n",
       ".xr-section-summary-in:checked + label:before {\n",
       "  content: '▼';\n",
       "}\n",
       "\n",
       ".xr-section-summary-in:checked + label > span {\n",
       "  display: none;\n",
       "}\n",
       "\n",
       ".xr-section-summary,\n",
       ".xr-section-inline-details {\n",
       "  padding-top: 4px;\n",
       "  padding-bottom: 4px;\n",
       "}\n",
       "\n",
       ".xr-section-inline-details {\n",
       "  grid-column: 2 / -1;\n",
       "}\n",
       "\n",
       ".xr-section-details {\n",
       "  display: none;\n",
       "  grid-column: 1 / -1;\n",
       "  margin-bottom: 5px;\n",
       "}\n",
       "\n",
       ".xr-section-summary-in:checked ~ .xr-section-details {\n",
       "  display: contents;\n",
       "}\n",
       "\n",
       ".xr-array-wrap {\n",
       "  grid-column: 1 / -1;\n",
       "  display: grid;\n",
       "  grid-template-columns: 20px auto;\n",
       "}\n",
       "\n",
       ".xr-array-wrap > label {\n",
       "  grid-column: 1;\n",
       "  vertical-align: top;\n",
       "}\n",
       "\n",
       ".xr-preview {\n",
       "  color: var(--xr-font-color3);\n",
       "}\n",
       "\n",
       ".xr-array-preview,\n",
       ".xr-array-data {\n",
       "  padding: 0 5px !important;\n",
       "  grid-column: 2;\n",
       "}\n",
       "\n",
       ".xr-array-data,\n",
       ".xr-array-in:checked ~ .xr-array-preview {\n",
       "  display: none;\n",
       "}\n",
       "\n",
       ".xr-array-in:checked ~ .xr-array-data,\n",
       ".xr-array-preview {\n",
       "  display: inline-block;\n",
       "}\n",
       "\n",
       ".xr-dim-list {\n",
       "  display: inline-block !important;\n",
       "  list-style: none;\n",
       "  padding: 0 !important;\n",
       "  margin: 0;\n",
       "}\n",
       "\n",
       ".xr-dim-list li {\n",
       "  display: inline-block;\n",
       "  padding: 0;\n",
       "  margin: 0;\n",
       "}\n",
       "\n",
       ".xr-dim-list:before {\n",
       "  content: '(';\n",
       "}\n",
       "\n",
       ".xr-dim-list:after {\n",
       "  content: ')';\n",
       "}\n",
       "\n",
       ".xr-dim-list li:not(:last-child):after {\n",
       "  content: ',';\n",
       "  padding-right: 5px;\n",
       "}\n",
       "\n",
       ".xr-has-index {\n",
       "  font-weight: bold;\n",
       "}\n",
       "\n",
       ".xr-var-list,\n",
       ".xr-var-item {\n",
       "  display: contents;\n",
       "}\n",
       "\n",
       ".xr-var-item > div,\n",
       ".xr-var-item label,\n",
       ".xr-var-item > .xr-var-name span {\n",
       "  background-color: var(--xr-background-color-row-even);\n",
       "  margin-bottom: 0;\n",
       "}\n",
       "\n",
       ".xr-var-item > .xr-var-name:hover span {\n",
       "  padding-right: 5px;\n",
       "}\n",
       "\n",
       ".xr-var-list > li:nth-child(odd) > div,\n",
       ".xr-var-list > li:nth-child(odd) > label,\n",
       ".xr-var-list > li:nth-child(odd) > .xr-var-name span {\n",
       "  background-color: var(--xr-background-color-row-odd);\n",
       "}\n",
       "\n",
       ".xr-var-name {\n",
       "  grid-column: 1;\n",
       "}\n",
       "\n",
       ".xr-var-dims {\n",
       "  grid-column: 2;\n",
       "}\n",
       "\n",
       ".xr-var-dtype {\n",
       "  grid-column: 3;\n",
       "  text-align: right;\n",
       "  color: var(--xr-font-color2);\n",
       "}\n",
       "\n",
       ".xr-var-preview {\n",
       "  grid-column: 4;\n",
       "}\n",
       "\n",
       ".xr-var-name,\n",
       ".xr-var-dims,\n",
       ".xr-var-dtype,\n",
       ".xr-preview,\n",
       ".xr-attrs dt {\n",
       "  white-space: nowrap;\n",
       "  overflow: hidden;\n",
       "  text-overflow: ellipsis;\n",
       "  padding-right: 10px;\n",
       "}\n",
       "\n",
       ".xr-var-name:hover,\n",
       ".xr-var-dims:hover,\n",
       ".xr-var-dtype:hover,\n",
       ".xr-attrs dt:hover {\n",
       "  overflow: visible;\n",
       "  width: auto;\n",
       "  z-index: 1;\n",
       "}\n",
       "\n",
       ".xr-var-attrs,\n",
       ".xr-var-data {\n",
       "  display: none;\n",
       "  background-color: var(--xr-background-color) !important;\n",
       "  padding-bottom: 5px !important;\n",
       "}\n",
       "\n",
       ".xr-var-attrs-in:checked ~ .xr-var-attrs,\n",
       ".xr-var-data-in:checked ~ .xr-var-data {\n",
       "  display: block;\n",
       "}\n",
       "\n",
       ".xr-var-data > table {\n",
       "  float: right;\n",
       "}\n",
       "\n",
       ".xr-var-name span,\n",
       ".xr-var-data,\n",
       ".xr-attrs {\n",
       "  padding-left: 25px !important;\n",
       "}\n",
       "\n",
       ".xr-attrs,\n",
       ".xr-var-attrs,\n",
       ".xr-var-data {\n",
       "  grid-column: 1 / -1;\n",
       "}\n",
       "\n",
       "dl.xr-attrs {\n",
       "  padding: 0;\n",
       "  margin: 0;\n",
       "  display: grid;\n",
       "  grid-template-columns: 125px auto;\n",
       "}\n",
       "\n",
       ".xr-attrs dt, dd {\n",
       "  padding: 0;\n",
       "  margin: 0;\n",
       "  float: left;\n",
       "  padding-right: 10px;\n",
       "  width: auto;\n",
       "}\n",
       "\n",
       ".xr-attrs dt {\n",
       "  font-weight: normal;\n",
       "  grid-column: 1;\n",
       "}\n",
       "\n",
       ".xr-attrs dt:hover span {\n",
       "  display: inline-block;\n",
       "  background: var(--xr-background-color);\n",
       "  padding-right: 10px;\n",
       "}\n",
       "\n",
       ".xr-attrs dd {\n",
       "  grid-column: 2;\n",
       "  white-space: pre-wrap;\n",
       "  word-break: break-all;\n",
       "}\n",
       "\n",
       ".xr-icon-database,\n",
       ".xr-icon-file-text2 {\n",
       "  display: inline-block;\n",
       "  vertical-align: middle;\n",
       "  width: 1em;\n",
       "  height: 1.5em !important;\n",
       "  stroke-width: 0;\n",
       "  stroke: currentColor;\n",
       "  fill: currentColor;\n",
       "}\n",
       "</style><div class='xr-wrap'><div class='xr-header'><div class='xr-obj-type'>xarray.Dataset</div></div><ul class='xr-sections'><li class='xr-section-item'><input id='section-1c927731-24b0-43d3-86ff-8307171a613a' class='xr-section-summary-in' type='checkbox' disabled ><label for='section-1c927731-24b0-43d3-86ff-8307171a613a' class='xr-section-summary'  title='Expand/collapse section'>Dimensions:</label><div class='xr-section-inline-details'><ul class='xr-dim-list'><li><span class='xr-has-index'>hour</span>: 24</li><li><span class='xr-has-index'>lat</span>: 147</li><li><span class='xr-has-index'>lon</span>: 147</li></ul></div><div class='xr-section-details'></div></li><li class='xr-section-item'><input id='section-1a5865a1-2093-4f08-ade7-4060d8ac9c20' class='xr-section-summary-in' type='checkbox'  checked><label for='section-1a5865a1-2093-4f08-ade7-4060d8ac9c20' class='xr-section-summary' >Coordinates: <span>(3)</span></label><div class='xr-section-inline-details'></div><div class='xr-section-details'><ul class='xr-var-list'><li class='xr-var-item'><div class='xr-var-name'><span class='xr-has-index'>lat</span></div><div class='xr-var-dims'>(lat)</div><div class='xr-var-dtype'>float64</div><div class='xr-var-preview xr-preview'>25.4 25.44 25.48 ... 30.72 30.75</div><input id='attrs-0caee97e-c110-4866-abfb-412232ecd246' class='xr-var-attrs-in' type='checkbox' disabled><label for='attrs-0caee97e-c110-4866-abfb-412232ecd246' title='Show/Hide attributes'><svg class='icon xr-icon-file-text2'><use xlink:href='#icon-file-text2'></use></svg></label><input id='data-c0b1567d-6d3e-4a54-8409-e40e556425c2' class='xr-var-data-in' type='checkbox'><label for='data-c0b1567d-6d3e-4a54-8409-e40e556425c2' title='Show/Hide data repr'><svg class='icon xr-icon-database'><use xlink:href='#icon-database'></use></svg></label><div class='xr-var-attrs'><dl class='xr-attrs'></dl></div><pre class='xr-var-data'>array([25.402321, 25.43985 , 25.477364, 25.514854, 25.552345, 25.589828,\n",
       "       25.627281, 25.664742, 25.702171, 25.739601, 25.777016, 25.814415,\n",
       "       25.851822, 25.889191, 25.926567, 25.963928, 26.001274, 26.038597,\n",
       "       26.075928, 26.113235, 26.150528, 26.18782 , 26.22509 , 26.262352,\n",
       "       26.299606, 26.336845, 26.374069, 26.411278, 26.448486, 26.485672,\n",
       "       26.522858, 26.560013, 26.597168, 26.634315, 26.67144 , 26.708572,\n",
       "       26.745674, 26.782761, 26.819847, 26.856911, 26.893967, 26.931015,\n",
       "       26.968048, 27.005066, 27.042076, 27.079079, 27.116058, 27.153038,\n",
       "       27.189987, 27.226936, 27.263878, 27.300789, 27.3377  , 27.374611,\n",
       "       27.411491, 27.448364, 27.485229, 27.522072, 27.558914, 27.595741,\n",
       "       27.632545, 27.669342, 27.706131, 27.742905, 27.779663, 27.816429,\n",
       "       27.853157, 27.889877, 27.926598, 27.963303, 27.999977, 28.036659,\n",
       "       28.073326, 28.109978, 28.146614, 28.183235, 28.219841, 28.256454,\n",
       "       28.293037, 28.329605, 28.366173, 28.402733, 28.439255, 28.475784,\n",
       "       28.512299, 28.548798, 28.585289, 28.621758, 28.658218, 28.694664,\n",
       "       28.73111 , 28.767532, 28.803932, 28.84034 , 28.876717, 28.913094,\n",
       "       28.949455, 28.985794, 29.022133, 29.058456, 29.094765, 29.131058,\n",
       "       29.167343, 29.203613, 29.239868, 29.276123, 29.312347, 29.348564,\n",
       "       29.384773, 29.420975, 29.457146, 29.493317, 29.529465, 29.565613,\n",
       "       29.601746, 29.637848, 29.67395 , 29.710045, 29.746117, 29.782181,\n",
       "       29.81823 , 29.854279, 29.890305, 29.926315, 29.962311, 29.998291,\n",
       "       30.034271, 30.070221, 30.106163, 30.142105, 30.178032, 30.213928,\n",
       "       30.249832, 30.285706, 30.321579, 30.357437, 30.39328 , 30.4291  ,\n",
       "       30.464912, 30.500717, 30.536507, 30.572281, 30.608047, 30.643799,\n",
       "       30.679535, 30.715256, 30.750961])</pre></li><li class='xr-var-item'><div class='xr-var-name'><span class='xr-has-index'>lon</span></div><div class='xr-var-dims'>(lon)</div><div class='xr-var-dtype'>float64</div><div class='xr-var-preview xr-preview'>73.97 74.01 74.05 ... 79.99 80.04</div><input id='attrs-f62a162f-4b47-44c3-8b83-17dc5e062280' class='xr-var-attrs-in' type='checkbox' disabled><label for='attrs-f62a162f-4b47-44c3-8b83-17dc5e062280' title='Show/Hide attributes'><svg class='icon xr-icon-file-text2'><use xlink:href='#icon-file-text2'></use></svg></label><input id='data-ca640e16-171e-48b0-8151-961f0017fe5f' class='xr-var-data-in' type='checkbox'><label for='data-ca640e16-171e-48b0-8151-961f0017fe5f' title='Show/Hide data repr'><svg class='icon xr-icon-database'><use xlink:href='#icon-database'></use></svg></label><div class='xr-var-attrs'><dl class='xr-attrs'></dl></div><pre class='xr-var-data'>array([73.970192, 74.011742, 74.053284, 74.094826, 74.136375, 74.177917,\n",
       "       74.21946 , 74.261009, 74.302551, 74.344093, 74.385643, 74.427185,\n",
       "       74.468727, 74.510269, 74.551819, 74.593361, 74.634903, 74.676453,\n",
       "       74.717995, 74.759537, 74.801086, 74.842628, 74.884171, 74.92572 ,\n",
       "       74.967262, 75.008804, 75.050354, 75.091896, 75.133438, 75.17498 ,\n",
       "       75.21653 , 75.258072, 75.299614, 75.341164, 75.382706, 75.424248,\n",
       "       75.465797, 75.507339, 75.548882, 75.590431, 75.631973, 75.673515,\n",
       "       75.715057, 75.756607, 75.798149, 75.839691, 75.881241, 75.922783,\n",
       "       75.964325, 76.005875, 76.047417, 76.088959, 76.130508, 76.17205 ,\n",
       "       76.213593, 76.255135, 76.296684, 76.338226, 76.379768, 76.421318,\n",
       "       76.46286 , 76.504402, 76.545952, 76.587494, 76.629036, 76.670586,\n",
       "       76.712128, 76.75367 , 76.795212, 76.836761, 76.878304, 76.919846,\n",
       "       76.961395, 77.002937, 77.044479, 77.086029, 77.127571, 77.169113,\n",
       "       77.210663, 77.252205, 77.293747, 77.335289, 77.376839, 77.418381,\n",
       "       77.459923, 77.501472, 77.543015, 77.584557, 77.626106, 77.667648,\n",
       "       77.70919 , 77.75074 , 77.792282, 77.833824, 77.875366, 77.916916,\n",
       "       77.958458, 78.      , 78.04155 , 78.083092, 78.124634, 78.166183,\n",
       "       78.207726, 78.249268, 78.290817, 78.332359, 78.373901, 78.415443,\n",
       "       78.456993, 78.498535, 78.540077, 78.581627, 78.623169, 78.664711,\n",
       "       78.706261, 78.747803, 78.789345, 78.830894, 78.872437, 78.913979,\n",
       "       78.955521, 78.99707 , 79.038612, 79.080154, 79.121704, 79.163246,\n",
       "       79.204788, 79.246338, 79.28788 , 79.329422, 79.370972, 79.412514,\n",
       "       79.454056, 79.495605, 79.537148, 79.57869 , 79.620232, 79.661781,\n",
       "       79.703323, 79.744865, 79.786415, 79.827957, 79.869499, 79.911049,\n",
       "       79.952591, 79.994133, 80.035683])</pre></li><li class='xr-var-item'><div class='xr-var-name'><span class='xr-has-index'>hour</span></div><div class='xr-var-dims'>(hour)</div><div class='xr-var-dtype'>int64</div><div class='xr-var-preview xr-preview'>0 1 2 3 4 5 6 ... 18 19 20 21 22 23</div><input id='attrs-fc64e381-a723-4fcf-917f-ce9a23104913' class='xr-var-attrs-in' type='checkbox' disabled><label for='attrs-fc64e381-a723-4fcf-917f-ce9a23104913' title='Show/Hide attributes'><svg class='icon xr-icon-file-text2'><use xlink:href='#icon-file-text2'></use></svg></label><input id='data-c2c4faa1-d083-4064-9431-d661d7e27c03' class='xr-var-data-in' type='checkbox'><label for='data-c2c4faa1-d083-4064-9431-d661d7e27c03' title='Show/Hide data repr'><svg class='icon xr-icon-database'><use xlink:href='#icon-database'></use></svg></label><div class='xr-var-attrs'><dl class='xr-attrs'></dl></div><pre class='xr-var-data'>array([ 0,  1,  2,  3,  4,  5,  6,  7,  8,  9, 10, 11, 12, 13, 14, 15, 16, 17,\n",
       "       18, 19, 20, 21, 22, 23])</pre></li></ul></div></li><li class='xr-section-item'><input id='section-a9908920-bc29-48ae-baca-e22313a84048' class='xr-section-summary-in' type='checkbox'  checked><label for='section-a9908920-bc29-48ae-baca-e22313a84048' class='xr-section-summary' >Data variables: <span>(2)</span></label><div class='xr-section-inline-details'></div><div class='xr-section-details'><ul class='xr-var-list'><li class='xr-var-item'><div class='xr-var-name'><span>pm25_obs_mean</span></div><div class='xr-var-dims'>(lat, lon, hour)</div><div class='xr-var-dtype'>float32</div><div class='xr-var-preview xr-preview'>nan nan nan nan ... nan nan nan nan</div><input id='attrs-664ca31f-a665-43b5-8b23-3ec322a80463' class='xr-var-attrs-in' type='checkbox' disabled><label for='attrs-664ca31f-a665-43b5-8b23-3ec322a80463' title='Show/Hide attributes'><svg class='icon xr-icon-file-text2'><use xlink:href='#icon-file-text2'></use></svg></label><input id='data-072b3043-a88a-4f7d-80f9-72ff7b0b7842' class='xr-var-data-in' type='checkbox'><label for='data-072b3043-a88a-4f7d-80f9-72ff7b0b7842' title='Show/Hide data repr'><svg class='icon xr-icon-database'><use xlink:href='#icon-database'></use></svg></label><div class='xr-var-attrs'><dl class='xr-attrs'></dl></div><pre class='xr-var-data'>array([[[nan, nan, nan, ..., nan, nan, nan],\n",
       "        [nan, nan, nan, ..., nan, nan, nan],\n",
       "        [nan, nan, nan, ..., nan, nan, nan],\n",
       "        ...,\n",
       "        [nan, nan, nan, ..., nan, nan, nan],\n",
       "        [nan, nan, nan, ..., nan, nan, nan],\n",
       "        [nan, nan, nan, ..., nan, nan, nan]],\n",
       "\n",
       "       [[nan, nan, nan, ..., nan, nan, nan],\n",
       "        [nan, nan, nan, ..., nan, nan, nan],\n",
       "        [nan, nan, nan, ..., nan, nan, nan],\n",
       "        ...,\n",
       "        [nan, nan, nan, ..., nan, nan, nan],\n",
       "        [nan, nan, nan, ..., nan, nan, nan],\n",
       "        [nan, nan, nan, ..., nan, nan, nan]],\n",
       "\n",
       "       [[nan, nan, nan, ..., nan, nan, nan],\n",
       "        [nan, nan, nan, ..., nan, nan, nan],\n",
       "        [nan, nan, nan, ..., nan, nan, nan],\n",
       "        ...,\n",
       "        [nan, nan, nan, ..., nan, nan, nan],\n",
       "        [nan, nan, nan, ..., nan, nan, nan],\n",
       "        [nan, nan, nan, ..., nan, nan, nan]],\n",
       "\n",
       "       ...,\n",
       "\n",
       "       [[nan, nan, nan, ..., nan, nan, nan],\n",
       "        [nan, nan, nan, ..., nan, nan, nan],\n",
       "        [nan, nan, nan, ..., nan, nan, nan],\n",
       "        ...,\n",
       "        [nan, nan, nan, ..., nan, nan, nan],\n",
       "        [nan, nan, nan, ..., nan, nan, nan],\n",
       "        [nan, nan, nan, ..., nan, nan, nan]],\n",
       "\n",
       "       [[nan, nan, nan, ..., nan, nan, nan],\n",
       "        [nan, nan, nan, ..., nan, nan, nan],\n",
       "        [nan, nan, nan, ..., nan, nan, nan],\n",
       "        ...,\n",
       "        [nan, nan, nan, ..., nan, nan, nan],\n",
       "        [nan, nan, nan, ..., nan, nan, nan],\n",
       "        [nan, nan, nan, ..., nan, nan, nan]],\n",
       "\n",
       "       [[nan, nan, nan, ..., nan, nan, nan],\n",
       "        [nan, nan, nan, ..., nan, nan, nan],\n",
       "        [nan, nan, nan, ..., nan, nan, nan],\n",
       "        ...,\n",
       "        [nan, nan, nan, ..., nan, nan, nan],\n",
       "        [nan, nan, nan, ..., nan, nan, nan],\n",
       "        [nan, nan, nan, ..., nan, nan, nan]]], dtype=float32)</pre></li><li class='xr-var-item'><div class='xr-var-name'><span>pm25_obs_std</span></div><div class='xr-var-dims'>(lat, lon, hour)</div><div class='xr-var-dtype'>float32</div><div class='xr-var-preview xr-preview'>nan nan nan nan ... nan nan nan nan</div><input id='attrs-2bdbc132-fbb4-4a02-b837-5b80eb3a0862' class='xr-var-attrs-in' type='checkbox' disabled><label for='attrs-2bdbc132-fbb4-4a02-b837-5b80eb3a0862' title='Show/Hide attributes'><svg class='icon xr-icon-file-text2'><use xlink:href='#icon-file-text2'></use></svg></label><input id='data-689b7ab8-b136-4ff1-b6fd-81386964c6ae' class='xr-var-data-in' type='checkbox'><label for='data-689b7ab8-b136-4ff1-b6fd-81386964c6ae' title='Show/Hide data repr'><svg class='icon xr-icon-database'><use xlink:href='#icon-database'></use></svg></label><div class='xr-var-attrs'><dl class='xr-attrs'></dl></div><pre class='xr-var-data'>array([[[nan, nan, nan, ..., nan, nan, nan],\n",
       "        [nan, nan, nan, ..., nan, nan, nan],\n",
       "        [nan, nan, nan, ..., nan, nan, nan],\n",
       "        ...,\n",
       "        [nan, nan, nan, ..., nan, nan, nan],\n",
       "        [nan, nan, nan, ..., nan, nan, nan],\n",
       "        [nan, nan, nan, ..., nan, nan, nan]],\n",
       "\n",
       "       [[nan, nan, nan, ..., nan, nan, nan],\n",
       "        [nan, nan, nan, ..., nan, nan, nan],\n",
       "        [nan, nan, nan, ..., nan, nan, nan],\n",
       "        ...,\n",
       "        [nan, nan, nan, ..., nan, nan, nan],\n",
       "        [nan, nan, nan, ..., nan, nan, nan],\n",
       "        [nan, nan, nan, ..., nan, nan, nan]],\n",
       "\n",
       "       [[nan, nan, nan, ..., nan, nan, nan],\n",
       "        [nan, nan, nan, ..., nan, nan, nan],\n",
       "        [nan, nan, nan, ..., nan, nan, nan],\n",
       "        ...,\n",
       "        [nan, nan, nan, ..., nan, nan, nan],\n",
       "        [nan, nan, nan, ..., nan, nan, nan],\n",
       "        [nan, nan, nan, ..., nan, nan, nan]],\n",
       "\n",
       "       ...,\n",
       "\n",
       "       [[nan, nan, nan, ..., nan, nan, nan],\n",
       "        [nan, nan, nan, ..., nan, nan, nan],\n",
       "        [nan, nan, nan, ..., nan, nan, nan],\n",
       "        ...,\n",
       "        [nan, nan, nan, ..., nan, nan, nan],\n",
       "        [nan, nan, nan, ..., nan, nan, nan],\n",
       "        [nan, nan, nan, ..., nan, nan, nan]],\n",
       "\n",
       "       [[nan, nan, nan, ..., nan, nan, nan],\n",
       "        [nan, nan, nan, ..., nan, nan, nan],\n",
       "        [nan, nan, nan, ..., nan, nan, nan],\n",
       "        ...,\n",
       "        [nan, nan, nan, ..., nan, nan, nan],\n",
       "        [nan, nan, nan, ..., nan, nan, nan],\n",
       "        [nan, nan, nan, ..., nan, nan, nan]],\n",
       "\n",
       "       [[nan, nan, nan, ..., nan, nan, nan],\n",
       "        [nan, nan, nan, ..., nan, nan, nan],\n",
       "        [nan, nan, nan, ..., nan, nan, nan],\n",
       "        ...,\n",
       "        [nan, nan, nan, ..., nan, nan, nan],\n",
       "        [nan, nan, nan, ..., nan, nan, nan],\n",
       "        [nan, nan, nan, ..., nan, nan, nan]]], dtype=float32)</pre></li></ul></div></li><li class='xr-section-item'><input id='section-c71751dd-eee9-4a36-ae4e-f74619a5b7ef' class='xr-section-summary-in' type='checkbox' disabled ><label for='section-c71751dd-eee9-4a36-ae4e-f74619a5b7ef' class='xr-section-summary'  title='Expand/collapse section'>Attributes: <span>(0)</span></label><div class='xr-section-inline-details'></div><div class='xr-section-details'><dl class='xr-attrs'></dl></div></li></ul></div></div>"
      ],
      "text/plain": [
       "<xarray.Dataset>\n",
       "Dimensions:        (hour: 24, lat: 147, lon: 147)\n",
       "Coordinates:\n",
       "  * lat            (lat) float64 25.4 25.44 25.48 25.51 ... 30.68 30.72 30.75\n",
       "  * lon            (lon) float64 73.97 74.01 74.05 74.09 ... 79.95 79.99 80.04\n",
       "  * hour           (hour) int64 0 1 2 3 4 5 6 7 8 ... 15 16 17 18 19 20 21 22 23\n",
       "Data variables:\n",
       "    pm25_obs_mean  (lat, lon, hour) float32 nan nan nan nan ... nan nan nan nan\n",
       "    pm25_obs_std   (lat, lon, hour) float32 nan nan nan nan ... nan nan nan nan"
      ]
     },
     "execution_count": 32,
     "metadata": {},
     "output_type": "execute_result"
    }
   ],
   "source": [
    "mod_latlon['pm25']"
   ]
  },
  {
   "cell_type": "code",
   "execution_count": 33,
   "metadata": {},
   "outputs": [],
   "source": [
    "# subsect observation to correspond to model outputs"
   ]
  },
  {
   "cell_type": "code",
   "execution_count": 34,
   "metadata": {},
   "outputs": [],
   "source": [
    "o=dyno_st\n",
    "for k in pol:  # POLL loop over pollutants df in observations.\n",
    "    \n",
    "    o[\"mod_time\"]=0.0\n",
    "    o[\"mod_lat\"]=0.0   # add columns to store model data\n",
    "    o[\"mod_lon\"]=0.0 \n",
    "    o[\"mod_\"+k]=0.0 \n",
    "    o[\"mod_pblh\"]=0.0\n",
    "    o[\"mod_\"+k+'_std']=0.0\n",
    "            \n",
    "    for idx, row in o.iterrows():# get model values row by row\n",
    "        da = mod_latlon[k]\n",
    "        #da = mod[row[\"season\"]][k] # select relevant data array based on season and pollutant\n",
    "        m = da.sel( # get model gridpoint closest to obs lat lon(nearest method) \n",
    "                   lat=row[\"lat\"],\n",
    "                   lon=row[\"lon\"],\n",
    "                   method='nearest') \n",
    "        m=m.sel(hour=row['hour'])  #get only times in the data.\n",
    "        o[\"mod_time\"][idx]=str(m.hour.values)\n",
    "        o[\"mod_lat\"][idx]=float(m.lat) # save lat, lon and pollutant value as separate columns\n",
    "        o[\"mod_lon\"][idx]=float(m.lon)\n",
    "        o[\"mod_\"+k][idx]=float(m[k+'_obs_mean'])\n",
    "        o[\"mod_\"+k+'_std'][idx]=float(m[k+'_obs_std'])\n",
    "       \n",
    "    # add pblh\n",
    "        da_pb = mod_latlon['PBLH']\n",
    "        m_pb = da_pb.sel( # get model gridpoint closest to obs lat lon(nearest method) \n",
    "                  lat=row[\"lat\"],\n",
    "                   lon=row[\"lon\"],\n",
    "                   method='nearest') \n",
    "        m_pb=m_pb.sel(hour=row['hour'])  #get only times in the data.\n",
    "        o['mod_pblh'][idx]=float(m_pb['PBLH_obs_mean'])     "
   ]
  },
  {
   "cell_type": "code",
   "execution_count": 35,
   "metadata": {},
   "outputs": [
    {
     "data": {
      "text/plain": [
       "Index(['station', 'hour', 'Unnamed: 0', 'lat', 'lon', 'month_LT', 'month_UTC',\n",
       "       'day_LT', 'hour_LT', 'day_UTC', 'hour_UTC', 'pm25', 'o3', 'no', 'no2',\n",
       "       'nox', 'rh', 'temp', 'mod_time', 'mod_lat', 'mod_lon', 'mod_pm25',\n",
       "       'mod_pblh', 'mod_pm25_std'],\n",
       "      dtype='object')"
      ]
     },
     "execution_count": 35,
     "metadata": {},
     "output_type": "execute_result"
    }
   ],
   "source": [
    "o.columns"
   ]
  },
  {
   "cell_type": "code",
   "execution_count": 36,
   "metadata": {},
   "outputs": [],
   "source": [
    "#create dict with datasets with dyno mean and std in Local Time\n",
    "from datetime import timedelta\n",
    "d={}\n",
    "for v in pol:\n",
    "    # grupby hour\n",
    "    dfo=o.groupby('hour').agg({'mean', 'std'})[v].add_prefix(v + \"_obs_\").reset_index()\n",
    "    dfm=o.groupby('hour').agg({'mean', 'std'})['mod_'+v].add_prefix(v + \"_mod_\").reset_index()\n",
    "    d.update({v:pd.merge(dfo,dfm)})"
   ]
  },
  {
   "cell_type": "code",
   "execution_count": 37,
   "metadata": {},
   "outputs": [],
   "source": [
    "#add PBLH\n",
    "d['PBLH']=model['PBLH']"
   ]
  },
  {
   "cell_type": "code",
   "execution_count": 38,
   "metadata": {},
   "outputs": [
    {
     "data": {
      "text/plain": [
       "94.82279269334764"
      ]
     },
     "execution_count": 38,
     "metadata": {},
     "output_type": "execute_result"
    }
   ],
   "source": [
    "d['pm25']['pm25_obs_mean'].mean()"
   ]
  },
  {
   "cell_type": "code",
   "execution_count": 39,
   "metadata": {},
   "outputs": [
    {
     "data": {
      "text/plain": [
       "108.82265169389785"
      ]
     },
     "execution_count": 39,
     "metadata": {},
     "output_type": "execute_result"
    }
   ],
   "source": [
    "d['pm25']['pm25_mod_mean'].mean()"
   ]
  },
  {
   "cell_type": "code",
   "execution_count": 40,
   "metadata": {},
   "outputs": [
    {
     "name": "stdout",
     "output_type": "stream",
     "text": [
      "pm25\n"
     ]
    }
   ],
   "source": [
    "# Calculate metrics for each pollutant and each season\n",
    "s='post'\n",
    "for k in pol: # loop over pollutants df in observations.\n",
    "    print(k)                       \n",
    "    o=d[k][k+'_obs_mean'].apply(np.array)     # get array of observations and values by season\n",
    "    m=d[k][k+'_mod_mean'].apply(np.array)\n",
    "    metr.loc[(metr.season == s) & (metr.pollutant==k),\"MB [ug/m3]\"] =get_MB(o,m) \n",
    "    metr.loc[(metr.season == s) & (metr.pollutant==k), \"NMB\"] = get_NMB(o,m) \n",
    "    metr.loc[(metr.season == s) & (metr.pollutant==k), \"RMSE [ug/m3]\"] = get_RMSE(o,m)\n",
    "    metr.loc[(metr.season == s) & (metr.pollutant==k), \"NMAE\"] = get_NMAE(o,m) \n",
    "    metr.loc[(metr.season == s) & (metr.pollutant==k), \"r\"] =get_r(o,m)[0]"
   ]
  },
  {
   "cell_type": "code",
   "execution_count": 41,
   "metadata": {
    "scrolled": true
   },
   "outputs": [
    {
     "data": {
      "text/html": [
       "<div>\n",
       "<style scoped>\n",
       "    .dataframe tbody tr th:only-of-type {\n",
       "        vertical-align: middle;\n",
       "    }\n",
       "\n",
       "    .dataframe tbody tr th {\n",
       "        vertical-align: top;\n",
       "    }\n",
       "\n",
       "    .dataframe thead th {\n",
       "        text-align: right;\n",
       "    }\n",
       "</style>\n",
       "<table border=\"1\" class=\"dataframe\">\n",
       "  <thead>\n",
       "    <tr style=\"text-align: right;\">\n",
       "      <th></th>\n",
       "      <th>pollutant</th>\n",
       "      <th>season</th>\n",
       "      <th>NMB</th>\n",
       "      <th>NMAE</th>\n",
       "      <th>MB [ug/m3]</th>\n",
       "      <th>RMSE [ug/m3]</th>\n",
       "      <th>r</th>\n",
       "    </tr>\n",
       "  </thead>\n",
       "  <tbody>\n",
       "    <tr>\n",
       "      <th>0</th>\n",
       "      <td>pm25</td>\n",
       "      <td>post</td>\n",
       "      <td>0.147642</td>\n",
       "      <td>0.168531</td>\n",
       "      <td>13.9999</td>\n",
       "      <td>17.135</td>\n",
       "      <td>0.894696</td>\n",
       "    </tr>\n",
       "  </tbody>\n",
       "</table>\n",
       "</div>"
      ],
      "text/plain": [
       "  pollutant season       NMB      NMAE MB [ug/m3] RMSE [ug/m3]         r\n",
       "0      pm25   post  0.147642  0.168531    13.9999       17.135  0.894696"
      ]
     },
     "execution_count": 41,
     "metadata": {},
     "output_type": "execute_result"
    }
   ],
   "source": [
    "metr"
   ]
  },
  {
   "cell_type": "code",
   "execution_count": 42,
   "metadata": {},
   "outputs": [
    {
     "data": {
      "image/png": "[encoded data removed]",
      "text/plain": [
       "<Figure size 504x216 with 2 Axes>"
      ]
     },
     "metadata": {
      "needs_background": "light"
     },
     "output_type": "display_data"
    }
   ],
   "source": [
    "fig, axes = plt.subplots(1,1,figsize=(7,3))\n",
    "for p,ax in zip(pol,fig.axes):\n",
    "    plot_avg_Delhi_ax(d,d,p,ax)\n",
    "    model,obs,pl,ax\n",
    "    \n",
    "for ax in fig.axes:\n",
    "#    if ax==fig.axes[7]  or ax==fig.axes[6]:\n",
    "    ax.set_xlabel('Time (LT)',fontsize=12)\n",
    "    ax.tick_params(axis='both', labelsize=12)\n",
    "#    else:\n",
    "#         ax.xaxis.set_ticklabels([])\n",
    "    ax.set_ylim((0,200))\n",
    "\n",
    "textstr = '\\n'.join((\n",
    "    r'NMB = 0.15' ,\n",
    "    r'MB = 14.00 $\\mu g~m^{-3}$' ,\n",
    "    r'RMSE = 17.14 $\\mu g~m^{-3}$'  ,\n",
    "    r'$r$ = 0.89'))\n",
    "\n",
    "# these are matplotlib.patch.Patch properties\n",
    "props = dict(boxstyle='round', facecolor='white', alpha=1)\n",
    "\n",
    "# place a text box in upper left in axes coords\n",
    "ax.text(0.02, 0.35, textstr, transform=ax.transAxes, fontsize=8,\n",
    "        verticalalignment='top', bbox=props)\n",
    "\n",
    "fig.tight_layout()\n"
   ]
  },
  {
   "cell_type": "code",
   "execution_count": 43,
   "metadata": {},
   "outputs": [],
   "source": [
    "fig.savefig('./fig03.pdf', format='pdf', dpi=300)"
   ]
  },
  {
   "cell_type": "code",
   "execution_count": null,
   "metadata": {},
   "outputs": [],
   "source": []
  }
 ],
 "metadata": {
  "kernelspec": {
   "display_name": "Python 3",
   "language": "python",
   "name": "python3"
  },
  "language_info": {
   "codemirror_mode": {
    "name": "ipython",
    "version": 3
   },
   "file_extension": ".py",
   "mimetype": "text/x-python",
   "name": "python",
   "nbconvert_exporter": "python",
   "pygments_lexer": "ipython3",
   "version": "3.8.2"
  }
 },
 "nbformat": 4,
 "nbformat_minor": 4
}
