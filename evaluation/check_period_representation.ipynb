{
 "cells": [
  {
   "cell_type": "code",
   "execution_count": 1,
   "metadata": {},
   "outputs": [],
   "source": [
    "#import modules\n",
    "%run ../load_main.py\n",
    "from Air_Quality_notebooks import utils as utl\n",
    "from WRFChemToolkit.analysis import statistics as st"
   ]
  },
  {
   "cell_type": "markdown",
   "metadata": {},
   "source": [
    "## Get model Delhi data"
   ]
  },
  {
   "cell_type": "code",
   "execution_count": 2,
   "metadata": {},
   "outputs": [],
   "source": [
    "# laod otuputs\n",
    "post=xr.open_mfdataset('/exports/geos.ed.ac.uk/palmer_group/managed/s1878599/delhiAQ/delhiNCT/outputs_postmon/pblmincoeff_tests/wrfout_d01_2019-10-*_00:00:00_nest_2019_newdyno_exchmin5.nc')\n",
    "post_all=xr.open_mfdataset('/exports/geos.ed.ac.uk/palmer_group/managed/s1878599/delhiAQ/futureEVs/base_runs/postmon/wrfout_d01_2019-10-01_00:00:00_nest_postmon_2019_base.nc')"
   ]
  },
  {
   "cell_type": "code",
   "execution_count": 3,
   "metadata": {},
   "outputs": [],
   "source": [
    "#season\n",
    "season='postmonsoon'"
   ]
  },
  {
   "cell_type": "code",
   "execution_count": 4,
   "metadata": {},
   "outputs": [],
   "source": [
    "#put data in dictionary\n",
    "s={'post':post, 'post_all':post_all}"
   ]
  },
  {
   "cell_type": "code",
   "execution_count": 5,
   "metadata": {},
   "outputs": [],
   "source": [
    "def reset_time_dim(ds):\n",
    "    \"\"\"\n",
    "    Time dimension in WRF-Chem datasets is just the time index [0,1,2,3...].\n",
    "    This function convert dimension Time as datetime[64].\n",
    "    :param ds:\n",
    "     wrf-chem xarray dataset.\n",
    "    :type ds:xarray.Dataset.\n",
    "    :return:\n",
    "     xarray.Dataset with datetime time dim.\n",
    "    :rtype: xarray.Dataset.\n",
    "    \"\"\"\n",
    "    return ds.assign_coords(Time=pd.to_datetime(ds.XTIME.values))"
   ]
  },
  {
   "cell_type": "code",
   "execution_count": 6,
   "metadata": {},
   "outputs": [],
   "source": [
    "# reset time and discard 5 days  spinup period.\n",
    "s['post']=reset_time_dim(s['post']).sel(Time=slice('2019-10-06T00:00:00.000000000','2019-10-16T00:00:00.000000000')) # 5 days\n",
    "s['post_all']=reset_time_dim(s['post_all']).sel(Time=slice('2019-10-01T00:00:00.000000000','2019-10-31T00:00:00.000000000'))  "
   ]
  },
  {
   "cell_type": "code",
   "execution_count": 7,
   "metadata": {},
   "outputs": [],
   "source": [
    "# subset surface values of relevant pollutants."
   ]
  },
  {
   "cell_type": "code",
   "execution_count": 8,
   "metadata": {},
   "outputs": [],
   "source": [
    "# define function to get pollutants and variables of interest.\n",
    "def get_pollutants(ds):\n",
    "    \n",
    "    data ={ \n",
    "           \"pm25\" : (['time',\"lat\",\"lon\"], ds.PM2_5_DRY.values[:,0,:,:]),           \n",
    "          }\n",
    "    coords={'time': (['time'], ds.XTIME[:]),'lat': (['lat'], ds.XLAT[0,:,0]), 'lon': (['lon'], ds.XLONG[0,0,:])}\n",
    "    p = xr.Dataset(data, coords=coords)\n",
    "    return p"
   ]
  },
  {
   "cell_type": "code",
   "execution_count": 9,
   "metadata": {},
   "outputs": [],
   "source": [
    "# get selected pollutants in a dictionary by season\n",
    "mod={}\n",
    "for k,v in s.items():\n",
    "    mod.update({k:get_pollutants(v)})"
   ]
  },
  {
   "cell_type": "code",
   "execution_count": 10,
   "metadata": {},
   "outputs": [],
   "source": [
    "# extract Delhi NCT data only using shapefile\n",
    "from WRFChemToolkit.analysis import aerosols_202 as aer, plots as pt, statistics as st\n",
    "import salem\n",
    "s_nct={}\n",
    "shp = '../gadm_data/delhiNCT/delhiNCT.shp'\n",
    "for k,v in mod.items():\n",
    "    s_nct[k]= mod[k].salem.roi(shape=shp)"
   ]
  },
  {
   "cell_type": "code",
   "execution_count": 11,
   "metadata": {},
   "outputs": [
    {
     "data": {
      "text/plain": [
       "(67053,)"
      ]
     },
     "execution_count": 11,
     "metadata": {},
     "output_type": "execute_result"
    }
   ],
   "source": [
    "(s_nct['post_all'].pm25.values[~np.isnan(s_nct['post_all'].pm25.values)]).shape"
   ]
  },
  {
   "cell_type": "markdown",
   "metadata": {},
   "source": [
    "# Get observations over Delhi"
   ]
  },
  {
   "cell_type": "code",
   "execution_count": 12,
   "metadata": {},
   "outputs": [],
   "source": [
    "# load observations data\n",
    "pth ='../observations/cpcb_oct2019_cleaned.xlsx'  # new downloaded direclty from CPCB website.\n",
    "data=pd.read_excel(pth)"
   ]
  },
  {
   "cell_type": "code",
   "execution_count": 13,
   "metadata": {},
   "outputs": [],
   "source": [
    "# add utc time to observations\n",
    "from datetime import timedelta\n",
    "data['date_UTC'] = pd.to_datetime(data['date_UTC'], format='%Y-%m-%d %H:%M:%S')"
   ]
  },
  {
   "cell_type": "code",
   "execution_count": 14,
   "metadata": {},
   "outputs": [],
   "source": [
    "# match dataset up to 31/10"
   ]
  },
  {
   "cell_type": "code",
   "execution_count": 15,
   "metadata": {},
   "outputs": [],
   "source": [
    "data=data[data['date_UTC']<='2019-10-31 00:00:00']"
   ]
  },
  {
   "cell_type": "code",
   "execution_count": 16,
   "metadata": {},
   "outputs": [],
   "source": [
    "# timeseries avg over Delhi"
   ]
  },
  {
   "cell_type": "code",
   "execution_count": 17,
   "metadata": {},
   "outputs": [
    {
     "data": {
      "text/plain": [
       "<matplotlib.axes._subplots.AxesSubplot at 0x7ff6bc07f0d0>"
      ]
     },
     "execution_count": 17,
     "metadata": {},
     "output_type": "execute_result"
    },
    {
     "data": {
      "image/png": "[encoded data removed]",
      "text/plain": [
       "<Figure size 432x288 with 1 Axes>"
      ]
     },
     "metadata": {
      "needs_background": "light"
     },
     "output_type": "display_data"
    }
   ],
   "source": [
    "data.groupby('date_UTC').pm25.mean().plot()"
   ]
  },
  {
   "cell_type": "code",
   "execution_count": 18,
   "metadata": {},
   "outputs": [],
   "source": [
    "# remove diwali infuelnce: Sun 27 OCt 2019"
   ]
  },
  {
   "cell_type": "code",
   "execution_count": 19,
   "metadata": {},
   "outputs": [],
   "source": [
    "t=data[~data['day_UTC'].isin([27])]"
   ]
  },
  {
   "cell_type": "code",
   "execution_count": 20,
   "metadata": {},
   "outputs": [
    {
     "data": {
      "text/plain": [
       "<matplotlib.axes._subplots.AxesSubplot at 0x7ff6bc11ff40>"
      ]
     },
     "execution_count": 20,
     "metadata": {},
     "output_type": "execute_result"
    },
    {
     "data": {
      "image/png": "[encoded data removed]",
      "text/plain": [
       "<Figure size 432x288 with 1 Axes>"
      ]
     },
     "metadata": {
      "needs_background": "light"
     },
     "output_type": "display_data"
    }
   ],
   "source": [
    "t.groupby('date_UTC').pm25.mean().plot()"
   ]
  },
  {
   "cell_type": "code",
   "execution_count": 21,
   "metadata": {},
   "outputs": [],
   "source": [
    "# box plot "
   ]
  },
  {
   "cell_type": "code",
   "execution_count": 22,
   "metadata": {},
   "outputs": [
    {
     "data": {
      "image/png": "[encoded data removed]",
      "text/plain": [
       "<Figure size 432x360 with 1 Axes>"
      ]
     },
     "metadata": {
      "needs_background": "light"
     },
     "output_type": "display_data"
    }
   ],
   "source": [
    "# Import libraries\n",
    "import matplotlib.pyplot as plt\n",
    "import numpy as np\n",
    "  \n",
    "# Creating dataset\n",
    "np.random.seed(10)\n",
    " \n",
    "mod_10d = (s_nct['post'].pm25.values[~np.isnan(s_nct['post'].pm25.values)])\n",
    "mod_10d=mod_10d[mod_10d!=0]\n",
    "\n",
    "mod_oct = (s_nct['post_all'].pm25.values[~np.isnan(s_nct['post_all'].pm25.values)])\n",
    "mod_oct=mod_oct[mod_oct!=0]\n",
    "\n",
    "obs = t['pm25'].dropna()\n",
    "obs=obs[obs>10]\n",
    "\n",
    "datax = [mod_10d, obs]\n",
    " \n",
    "fig = plt.figure(figsize =(6, 5))\n",
    " \n",
    "# Creating axes instance\n",
    "ax = fig.add_axes([0, 0, 1, 1])\n",
    " \n",
    "# Creating plot\n",
    "bp=ax.boxplot(datax,showfliers=False,showmeans=True,widths=0.3,labels=['MOD','OBS'])\n",
    "plt.ylabel('$\\mu$g $m^{-3}$', fontsize=15)\n",
    "plt.yticks(fontsize=15)\n",
    "ax.set_xticklabels(labels=['MOD','OBS'], fontsize=15)\n",
    "# show plot\n",
    "plt.show()"
   ]
  },
  {
   "cell_type": "code",
   "execution_count": 23,
   "metadata": {},
   "outputs": [
    {
     "data": {
      "text/plain": [
       "114.56904102861738"
      ]
     },
     "execution_count": 23,
     "metadata": {},
     "output_type": "execute_result"
    }
   ],
   "source": [
    "obs.mean()"
   ]
  },
  {
   "cell_type": "code",
   "execution_count": 24,
   "metadata": {},
   "outputs": [
    {
     "data": {
      "text/plain": [
       "99.02"
      ]
     },
     "execution_count": 24,
     "metadata": {},
     "output_type": "execute_result"
    }
   ],
   "source": [
    "obs.median()"
   ]
  },
  {
   "cell_type": "code",
   "execution_count": 25,
   "metadata": {},
   "outputs": [
    {
     "data": {
      "text/plain": [
       "102.91459"
      ]
     },
     "execution_count": 25,
     "metadata": {},
     "output_type": "execute_result"
    }
   ],
   "source": [
    "mod_10d.mean()"
   ]
  },
  {
   "cell_type": "code",
   "execution_count": 26,
   "metadata": {
    "scrolled": true
   },
   "outputs": [
    {
     "data": {
      "text/plain": [
       "87.68599"
      ]
     },
     "execution_count": 26,
     "metadata": {},
     "output_type": "execute_result"
    }
   ],
   "source": [
    "np.median(mod_10d)"
   ]
  },
  {
   "cell_type": "code",
   "execution_count": 27,
   "metadata": {},
   "outputs": [],
   "source": [
    "# difference"
   ]
  },
  {
   "cell_type": "code",
   "execution_count": 28,
   "metadata": {},
   "outputs": [
    {
     "data": {
      "text/plain": [
       "-10.172427032433342"
      ]
     },
     "execution_count": 28,
     "metadata": {},
     "output_type": "execute_result"
    }
   ],
   "source": [
    "(mod_10d.mean()-obs.mean())/obs.mean()*100"
   ]
  },
  {
   "cell_type": "code",
   "execution_count": 29,
   "metadata": {},
   "outputs": [
    {
     "data": {
      "text/plain": [
       "-11.446183215630361"
      ]
     },
     "execution_count": 29,
     "metadata": {},
     "output_type": "execute_result"
    }
   ],
   "source": [
    "((np.median(mod_10d))-obs.median())/obs.median()*100"
   ]
  },
  {
   "cell_type": "code",
   "execution_count": null,
   "metadata": {},
   "outputs": [],
   "source": []
  }
 ],
 "metadata": {
  "kernelspec": {
   "display_name": "Python 3",
   "language": "python",
   "name": "python3"
  },
  "language_info": {
   "codemirror_mode": {
    "name": "ipython",
    "version": 3
   },
   "file_extension": ".py",
   "mimetype": "text/x-python",
   "name": "python",
   "nbconvert_exporter": "python",
   "pygments_lexer": "ipython3",
   "version": "3.8.2"
  }
 },
 "nbformat": 4,
 "nbformat_minor": 4
}
