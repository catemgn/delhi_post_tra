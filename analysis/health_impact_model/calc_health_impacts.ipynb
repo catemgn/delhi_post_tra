{
 "cells": [
  {
   "cell_type": "code",
   "execution_count": 1,
   "metadata": {},
   "outputs": [],
   "source": [
    "#import modules\n",
    "%run ../../load_main.py"
   ]
  },
  {
   "cell_type": "markdown",
   "metadata": {},
   "source": [
    "# Get linearity coefficients"
   ]
  },
  {
   "cell_type": "code",
   "execution_count": 2,
   "metadata": {},
   "outputs": [],
   "source": [
    "# pm25"
   ]
  },
  {
   "cell_type": "code",
   "execution_count": 3,
   "metadata": {},
   "outputs": [],
   "source": [
    "pm25=pd.read_excel('pm25_linear.xlsx').drop('Unnamed: 0',axis=1)"
   ]
  },
  {
   "cell_type": "code",
   "execution_count": 4,
   "metadata": {
    "scrolled": false
   },
   "outputs": [
    {
     "data": {
      "text/html": [
       "<div>\n",
       "<style scoped>\n",
       "    .dataframe tbody tr th:only-of-type {\n",
       "        vertical-align: middle;\n",
       "    }\n",
       "\n",
       "    .dataframe tbody tr th {\n",
       "        vertical-align: top;\n",
       "    }\n",
       "\n",
       "    .dataframe thead th {\n",
       "        text-align: right;\n",
       "    }\n",
       "</style>\n",
       "<table border=\"1\" class=\"dataframe\">\n",
       "  <thead>\n",
       "    <tr style=\"text-align: right;\">\n",
       "      <th></th>\n",
       "      <th>sectors</th>\n",
       "      <th>scale_factor</th>\n",
       "      <th>value</th>\n",
       "    </tr>\n",
       "  </thead>\n",
       "  <tbody>\n",
       "    <tr>\n",
       "      <th>0</th>\n",
       "      <td>NCT_DOM</td>\n",
       "      <td>100</td>\n",
       "      <td>92.714272</td>\n",
       "    </tr>\n",
       "    <tr>\n",
       "      <th>1</th>\n",
       "      <td>NCT_IPO</td>\n",
       "      <td>100</td>\n",
       "      <td>92.714272</td>\n",
       "    </tr>\n",
       "    <tr>\n",
       "      <th>2</th>\n",
       "      <td>NCT_TRA</td>\n",
       "      <td>100</td>\n",
       "      <td>92.714272</td>\n",
       "    </tr>\n",
       "    <tr>\n",
       "      <th>3</th>\n",
       "      <td>NCR_DOM</td>\n",
       "      <td>100</td>\n",
       "      <td>92.714272</td>\n",
       "    </tr>\n",
       "    <tr>\n",
       "      <th>4</th>\n",
       "      <td>NCR_IPO</td>\n",
       "      <td>100</td>\n",
       "      <td>92.714272</td>\n",
       "    </tr>\n",
       "  </tbody>\n",
       "</table>\n",
       "</div>"
      ],
      "text/plain": [
       "   sectors  scale_factor      value\n",
       "0  NCT_DOM           100  92.714272\n",
       "1  NCT_IPO           100  92.714272\n",
       "2  NCT_TRA           100  92.714272\n",
       "3  NCR_DOM           100  92.714272\n",
       "4  NCR_IPO           100  92.714272"
      ]
     },
     "execution_count": 4,
     "metadata": {},
     "output_type": "execute_result"
    }
   ],
   "source": [
    "pm25.head()"
   ]
  },
  {
   "cell_type": "code",
   "execution_count": 5,
   "metadata": {},
   "outputs": [],
   "source": [
    "# change types data\n",
    "pm25.sectors = pm25.sectors.astype(str)\n",
    "pm25.scale_factor = pm25.scale_factor.astype(float)/100"
   ]
  },
  {
   "cell_type": "code",
   "execution_count": 6,
   "metadata": {},
   "outputs": [],
   "source": [
    "# get boundaries of linaerity\n",
    "b_inf = 0.5\n",
    "b_upp = 1.5\n",
    "\n",
    "pm25_lin=pm25[ ( pm25['scale_factor'] >= b_inf ) & ( pm25['scale_factor'] <= b_upp) ]"
   ]
  },
  {
   "cell_type": "code",
   "execution_count": 7,
   "metadata": {},
   "outputs": [],
   "source": [
    "df=pd.DataFrame(0.000,columns=['slope_pm25','slope_o3'],index=pm25.sectors.unique())"
   ]
  },
  {
   "cell_type": "code",
   "execution_count": 8,
   "metadata": {},
   "outputs": [
    {
     "data": {
      "text/html": [
       "<div>\n",
       "<style scoped>\n",
       "    .dataframe tbody tr th:only-of-type {\n",
       "        vertical-align: middle;\n",
       "    }\n",
       "\n",
       "    .dataframe tbody tr th {\n",
       "        vertical-align: top;\n",
       "    }\n",
       "\n",
       "    .dataframe thead th {\n",
       "        text-align: right;\n",
       "    }\n",
       "</style>\n",
       "<table border=\"1\" class=\"dataframe\">\n",
       "  <thead>\n",
       "    <tr style=\"text-align: right;\">\n",
       "      <th></th>\n",
       "      <th>slope_pm25</th>\n",
       "      <th>slope_o3</th>\n",
       "    </tr>\n",
       "  </thead>\n",
       "  <tbody>\n",
       "    <tr>\n",
       "      <th>NCT_DOM</th>\n",
       "      <td>0.0</td>\n",
       "      <td>0.0</td>\n",
       "    </tr>\n",
       "    <tr>\n",
       "      <th>NCT_IPO</th>\n",
       "      <td>0.0</td>\n",
       "      <td>0.0</td>\n",
       "    </tr>\n",
       "    <tr>\n",
       "      <th>NCT_TRA</th>\n",
       "      <td>0.0</td>\n",
       "      <td>0.0</td>\n",
       "    </tr>\n",
       "    <tr>\n",
       "      <th>NCR_DOM</th>\n",
       "      <td>0.0</td>\n",
       "      <td>0.0</td>\n",
       "    </tr>\n",
       "    <tr>\n",
       "      <th>NCR_IPO</th>\n",
       "      <td>0.0</td>\n",
       "      <td>0.0</td>\n",
       "    </tr>\n",
       "    <tr>\n",
       "      <th>NCR_TRA</th>\n",
       "      <td>0.0</td>\n",
       "      <td>0.0</td>\n",
       "    </tr>\n",
       "    <tr>\n",
       "      <th>ALL</th>\n",
       "      <td>0.0</td>\n",
       "      <td>0.0</td>\n",
       "    </tr>\n",
       "  </tbody>\n",
       "</table>\n",
       "</div>"
      ],
      "text/plain": [
       "         slope_pm25  slope_o3\n",
       "NCT_DOM         0.0       0.0\n",
       "NCT_IPO         0.0       0.0\n",
       "NCT_TRA         0.0       0.0\n",
       "NCR_DOM         0.0       0.0\n",
       "NCR_IPO         0.0       0.0\n",
       "NCR_TRA         0.0       0.0\n",
       "ALL             0.0       0.0"
      ]
     },
     "execution_count": 8,
     "metadata": {},
     "output_type": "execute_result"
    }
   ],
   "source": [
    "df"
   ]
  },
  {
   "cell_type": "code",
   "execution_count": 9,
   "metadata": {},
   "outputs": [],
   "source": [
    "import scipy.stats as ss\n",
    "# for each secto caluclate the slope and put in dataframe\n",
    "for s in pm25_lin.sectors.unique():\n",
    "    t=pm25_lin[pm25_lin.sectors==s]\n",
    "    \n",
    "    x=t.scale_factor.values\n",
    "    y=t.value.values\n",
    "    interp =ss.linregress(x, y)\n",
    "    \n",
    "    df.at[s,'slope_pm25']=interp.slope # % change"
   ]
  },
  {
   "cell_type": "code",
   "execution_count": 10,
   "metadata": {},
   "outputs": [
    {
     "data": {
      "text/html": [
       "<div>\n",
       "<style scoped>\n",
       "    .dataframe tbody tr th:only-of-type {\n",
       "        vertical-align: middle;\n",
       "    }\n",
       "\n",
       "    .dataframe tbody tr th {\n",
       "        vertical-align: top;\n",
       "    }\n",
       "\n",
       "    .dataframe thead th {\n",
       "        text-align: right;\n",
       "    }\n",
       "</style>\n",
       "<table border=\"1\" class=\"dataframe\">\n",
       "  <thead>\n",
       "    <tr style=\"text-align: right;\">\n",
       "      <th></th>\n",
       "      <th>slope_pm25</th>\n",
       "      <th>slope_o3</th>\n",
       "    </tr>\n",
       "  </thead>\n",
       "  <tbody>\n",
       "    <tr>\n",
       "      <th>NCT_DOM</th>\n",
       "      <td>1.655382</td>\n",
       "      <td>0.0</td>\n",
       "    </tr>\n",
       "    <tr>\n",
       "      <th>NCT_IPO</th>\n",
       "      <td>5.262512</td>\n",
       "      <td>0.0</td>\n",
       "    </tr>\n",
       "    <tr>\n",
       "      <th>NCT_TRA</th>\n",
       "      <td>8.748517</td>\n",
       "      <td>0.0</td>\n",
       "    </tr>\n",
       "    <tr>\n",
       "      <th>NCR_DOM</th>\n",
       "      <td>10.601917</td>\n",
       "      <td>0.0</td>\n",
       "    </tr>\n",
       "    <tr>\n",
       "      <th>NCR_IPO</th>\n",
       "      <td>12.179391</td>\n",
       "      <td>0.0</td>\n",
       "    </tr>\n",
       "    <tr>\n",
       "      <th>NCR_TRA</th>\n",
       "      <td>6.937451</td>\n",
       "      <td>0.0</td>\n",
       "    </tr>\n",
       "    <tr>\n",
       "      <th>ALL</th>\n",
       "      <td>45.413290</td>\n",
       "      <td>0.0</td>\n",
       "    </tr>\n",
       "  </tbody>\n",
       "</table>\n",
       "</div>"
      ],
      "text/plain": [
       "         slope_pm25  slope_o3\n",
       "NCT_DOM    1.655382       0.0\n",
       "NCT_IPO    5.262512       0.0\n",
       "NCT_TRA    8.748517       0.0\n",
       "NCR_DOM   10.601917       0.0\n",
       "NCR_IPO   12.179391       0.0\n",
       "NCR_TRA    6.937451       0.0\n",
       "ALL       45.413290       0.0"
      ]
     },
     "execution_count": 10,
     "metadata": {},
     "output_type": "execute_result"
    }
   ],
   "source": [
    "df"
   ]
  },
  {
   "cell_type": "code",
   "execution_count": 11,
   "metadata": {},
   "outputs": [],
   "source": [
    "# ozone"
   ]
  },
  {
   "cell_type": "code",
   "execution_count": 12,
   "metadata": {},
   "outputs": [],
   "source": [
    "o3=pd.read_excel('o3DM8H_linear.xlsx').drop('Unnamed: 0',axis=1)"
   ]
  },
  {
   "cell_type": "code",
   "execution_count": 13,
   "metadata": {},
   "outputs": [
    {
     "data": {
      "text/html": [
       "<div>\n",
       "<style scoped>\n",
       "    .dataframe tbody tr th:only-of-type {\n",
       "        vertical-align: middle;\n",
       "    }\n",
       "\n",
       "    .dataframe tbody tr th {\n",
       "        vertical-align: top;\n",
       "    }\n",
       "\n",
       "    .dataframe thead th {\n",
       "        text-align: right;\n",
       "    }\n",
       "</style>\n",
       "<table border=\"1\" class=\"dataframe\">\n",
       "  <thead>\n",
       "    <tr style=\"text-align: right;\">\n",
       "      <th></th>\n",
       "      <th>sectors</th>\n",
       "      <th>scale_factor</th>\n",
       "      <th>value</th>\n",
       "    </tr>\n",
       "  </thead>\n",
       "  <tbody>\n",
       "    <tr>\n",
       "      <th>0</th>\n",
       "      <td>NCT_DOM</td>\n",
       "      <td>100</td>\n",
       "      <td>82.106865</td>\n",
       "    </tr>\n",
       "    <tr>\n",
       "      <th>1</th>\n",
       "      <td>NCT_IPO</td>\n",
       "      <td>100</td>\n",
       "      <td>82.106865</td>\n",
       "    </tr>\n",
       "    <tr>\n",
       "      <th>2</th>\n",
       "      <td>NCT_TRA</td>\n",
       "      <td>100</td>\n",
       "      <td>82.106865</td>\n",
       "    </tr>\n",
       "    <tr>\n",
       "      <th>3</th>\n",
       "      <td>NCR_DOM</td>\n",
       "      <td>100</td>\n",
       "      <td>82.106865</td>\n",
       "    </tr>\n",
       "    <tr>\n",
       "      <th>4</th>\n",
       "      <td>NCR_IPO</td>\n",
       "      <td>100</td>\n",
       "      <td>82.106865</td>\n",
       "    </tr>\n",
       "  </tbody>\n",
       "</table>\n",
       "</div>"
      ],
      "text/plain": [
       "   sectors  scale_factor      value\n",
       "0  NCT_DOM           100  82.106865\n",
       "1  NCT_IPO           100  82.106865\n",
       "2  NCT_TRA           100  82.106865\n",
       "3  NCR_DOM           100  82.106865\n",
       "4  NCR_IPO           100  82.106865"
      ]
     },
     "execution_count": 13,
     "metadata": {},
     "output_type": "execute_result"
    }
   ],
   "source": [
    "o3.head()"
   ]
  },
  {
   "cell_type": "code",
   "execution_count": 14,
   "metadata": {},
   "outputs": [],
   "source": [
    "# change types data\n",
    "o3.sectors = o3.sectors.astype(str)\n",
    "o3.scale_factor = o3.scale_factor.astype(float)/100"
   ]
  },
  {
   "cell_type": "code",
   "execution_count": 15,
   "metadata": {},
   "outputs": [],
   "source": [
    "# get boundaries of linaerity\n",
    "o3_lin=o3[ ( o3['scale_factor'] >= b_inf ) & ( o3['scale_factor'] <= b_upp) ]"
   ]
  },
  {
   "cell_type": "code",
   "execution_count": 16,
   "metadata": {},
   "outputs": [],
   "source": [
    "# for each secto caluclate the slope and put in dataframe\n",
    "for s in o3_lin.sectors.unique():\n",
    "    t=o3_lin[o3_lin.sectors==s]\n",
    "    \n",
    "    x=t.scale_factor.values\n",
    "    y=t.value.values\n",
    "    interp =ss.linregress(x, y)\n",
    "    \n",
    "    df.at[s,'slope_o3']=interp.slope"
   ]
  },
  {
   "cell_type": "code",
   "execution_count": 17,
   "metadata": {},
   "outputs": [
    {
     "data": {
      "text/html": [
       "<div>\n",
       "<style scoped>\n",
       "    .dataframe tbody tr th:only-of-type {\n",
       "        vertical-align: middle;\n",
       "    }\n",
       "\n",
       "    .dataframe tbody tr th {\n",
       "        vertical-align: top;\n",
       "    }\n",
       "\n",
       "    .dataframe thead th {\n",
       "        text-align: right;\n",
       "    }\n",
       "</style>\n",
       "<table border=\"1\" class=\"dataframe\">\n",
       "  <thead>\n",
       "    <tr style=\"text-align: right;\">\n",
       "      <th></th>\n",
       "      <th>slope_pm25</th>\n",
       "      <th>slope_o3</th>\n",
       "    </tr>\n",
       "  </thead>\n",
       "  <tbody>\n",
       "    <tr>\n",
       "      <th>NCT_DOM</th>\n",
       "      <td>1.655382</td>\n",
       "      <td>-0.734131</td>\n",
       "    </tr>\n",
       "    <tr>\n",
       "      <th>NCT_IPO</th>\n",
       "      <td>5.262512</td>\n",
       "      <td>-3.839755</td>\n",
       "    </tr>\n",
       "    <tr>\n",
       "      <th>NCT_TRA</th>\n",
       "      <td>8.748517</td>\n",
       "      <td>-27.914084</td>\n",
       "    </tr>\n",
       "    <tr>\n",
       "      <th>NCR_DOM</th>\n",
       "      <td>10.601917</td>\n",
       "      <td>-1.059229</td>\n",
       "    </tr>\n",
       "    <tr>\n",
       "      <th>NCR_IPO</th>\n",
       "      <td>12.179391</td>\n",
       "      <td>-9.808801</td>\n",
       "    </tr>\n",
       "    <tr>\n",
       "      <th>NCR_TRA</th>\n",
       "      <td>6.937451</td>\n",
       "      <td>-21.571664</td>\n",
       "    </tr>\n",
       "    <tr>\n",
       "      <th>ALL</th>\n",
       "      <td>45.413290</td>\n",
       "      <td>-65.617172</td>\n",
       "    </tr>\n",
       "  </tbody>\n",
       "</table>\n",
       "</div>"
      ],
      "text/plain": [
       "         slope_pm25   slope_o3\n",
       "NCT_DOM    1.655382  -0.734131\n",
       "NCT_IPO    5.262512  -3.839755\n",
       "NCT_TRA    8.748517 -27.914084\n",
       "NCR_DOM   10.601917  -1.059229\n",
       "NCR_IPO   12.179391  -9.808801\n",
       "NCR_TRA    6.937451 -21.571664\n",
       "ALL       45.413290 -65.617172"
      ]
     },
     "execution_count": 17,
     "metadata": {},
     "output_type": "execute_result"
    }
   ],
   "source": [
    "df"
   ]
  },
  {
   "cell_type": "code",
   "execution_count": 18,
   "metadata": {},
   "outputs": [],
   "source": [
    "df.to_excel('slopes.xlsx')"
   ]
  },
  {
   "cell_type": "markdown",
   "metadata": {},
   "source": [
    "# Calculate mortality"
   ]
  },
  {
   "cell_type": "code",
   "execution_count": 19,
   "metadata": {},
   "outputs": [],
   "source": [
    "# RR2 for PM2.5: Eq. 4 from paper:\n",
    "#https://www.pnas.org/content/117/41/25370\n",
    "import math\n",
    "rmin=2.4\n",
    "def rr_p(x):\n",
    "    y=math.exp((0.25*math.log((x-rmin)/6.5+1))/(1+math.exp(-1*(x-rmin-2.5)/32))) #y= math.sin(x) #\n",
    "    return y"
   ]
  },
  {
   "cell_type": "code",
   "execution_count": 20,
   "metadata": {},
   "outputs": [],
   "source": [
    "# RR for O3: Eq. 5 from paper:\n",
    "#https://www.pnas.org/content/117/41/25370\n",
    "def rr_o(x,c0=20,val=1.03):\n",
    "    #f=(x/((x-80)*2))\n",
    "    if x<=c0:\n",
    "        f=1\n",
    "    else:\n",
    "        f=pow(val,(x-c0)/(10*2))  # original is /10 (ppb) we have ug m-3 so we convert roughly to /20 ug m-3\n",
    "        \n",
    "    return f"
   ]
  },
  {
   "cell_type": "code",
   "execution_count": 21,
   "metadata": {},
   "outputs": [],
   "source": [
    "# constants\n",
    "pm25_base=92.714272\n",
    "o3_base=82.106865\n",
    "p =  31e6 # delhi population in 2020 according to UN World Urbanization Prospects 2018 https://population.un.org/wup/DataQuery/\n",
    "I = 53.9/1e5 # for COPD in Delhi from https://www.sciencedirect.com/science/article/pii/S0160412016300848?via%3Dihub#s0045"
   ]
  },
  {
   "cell_type": "code",
   "execution_count": 22,
   "metadata": {},
   "outputs": [],
   "source": [
    "# functions\n",
    "\n",
    "def delta_pm(x):\n",
    "    delta_pm25 =  (      df.at['NCT_IPO','slope_pm25']* (x[0]-1) +\n",
    "                         df.at['NCT_DOM','slope_pm25']* (x[1]-1) +\n",
    "                         df.at['NCT_TRA','slope_pm25']* (x[2]-1) +\n",
    "                         df.at['NCR_IPO','slope_pm25']* (x[3]-1) +\n",
    "                         df.at['NCR_DOM','slope_pm25']* (x[4]-1) +\n",
    "                         df.at['NCR_TRA','slope_pm25']* (x[5]-1)\n",
    "                        )\n",
    "    \n",
    "    return delta_pm25\n",
    "\n",
    "\n",
    "def delta_o3(x):\n",
    "    delta_o3 = (df.at['NCT_IPO','slope_o3']* (x[0]-1) +\n",
    "                     df.at['NCT_DOM','slope_o3']* (x[1]-1) +\n",
    "                     df.at['NCT_TRA','slope_o3']* (x[2]-1) +\n",
    "                     df.at['NCR_IPO','slope_o3']* (x[3]-1) +\n",
    "                     df.at['NCR_DOM','slope_o3']* (x[4]-1) +\n",
    "                     df.at['NCR_TRA','slope_o3']* (x[5]-1)\n",
    "                    )\n",
    "                        \n",
    "    return delta_o3\n",
    "\n",
    "\n",
    "def mortality_pm(p,I,c):\n",
    "     return p*I*(1-1/rr_p(c))\n",
    "    \n",
    "\n",
    "def mortality_o3(p,I,c):\n",
    "     return p*I*(1-1/rr_o(c))\n",
    "\n",
    "\n",
    "    \n",
    "def delta_mortality(x): \n",
    "    arg_pm25 = 1/rr_p(pm25_base+delta_pm(x)) - 1/rr_p(pm25_base)\n",
    "    \n",
    "    \n",
    "    arg_o3 = 1/rr_o(o3_base+delta_o3(x)) - 1/rr_o(o3_base)\n",
    "                            \n",
    "    return -1*p*I*(arg_pm25+arg_o3)     # (max function = min -function)"
   ]
  },
  {
   "cell_type": "code",
   "execution_count": 23,
   "metadata": {},
   "outputs": [],
   "source": [
    "# OPTIMIZE\n",
    "\n",
    "from scipy.optimize import differential_evolution, minimize\n",
    "import numpy as np\n",
    "\n",
    "b_inf = 0.5\n",
    "b_upp = 1\n",
    "bounds = [(b_inf,b_upp)]*6\n",
    "\n",
    "\n",
    "# try two different algorithms\n",
    "result = differential_evolution(delta_mortality, bounds)  \n",
    "\n",
    "results2=minimize(delta_mortality,[1]*6, bounds=bounds)"
   ]
  },
  {
   "cell_type": "code",
   "execution_count": 24,
   "metadata": {
    "scrolled": true
   },
   "outputs": [
    {
     "data": {
      "text/plain": [
       "     fun: -371.3029810732499\n",
       "     jac: array([ 133.89239371,   52.66863354, -256.97918318,  289.33570775,\n",
       "        418.44721181, -191.22282993])\n",
       " message: 'Optimization terminated successfully.'\n",
       "    nfev: 4064\n",
       "     nit: 44\n",
       " success: True\n",
       "       x: array([0.5, 0.5, 1. , 0.5, 0.5, 1. ])"
      ]
     },
     "execution_count": 24,
     "metadata": {},
     "output_type": "execute_result"
    }
   ],
   "source": [
    "result"
   ]
  },
  {
   "cell_type": "code",
   "execution_count": 25,
   "metadata": {},
   "outputs": [
    {
     "data": {
      "text/plain": [
       "      fun: -371.3029810732499\n",
       " hess_inv: <6x6 LbfgsInvHessProduct with dtype=float64>\n",
       "      jac: array([ 133.89239371,   52.66863354, -256.97918318,  289.33570775,\n",
       "        418.44721181, -191.22282993])\n",
       "  message: b'CONVERGENCE: NORM_OF_PROJECTED_GRADIENT_<=_PGTOL'\n",
       "     nfev: 14\n",
       "      nit: 1\n",
       "   status: 0\n",
       "  success: True\n",
       "        x: array([0.5, 0.5, 1. , 0.5, 0.5, 1. ])"
      ]
     },
     "execution_count": 25,
     "metadata": {},
     "output_type": "execute_result"
    }
   ],
   "source": [
    "results2"
   ]
  },
  {
   "cell_type": "markdown",
   "metadata": {},
   "source": [
    "results say to target max reduction of DOM, and IPO, NCR_IPO, not TRA \n",
    "probably because TRA and NCR_TRA have the steepest O3 increase when reducing emissions comapred to the others."
   ]
  },
  {
   "cell_type": "code",
   "execution_count": 26,
   "metadata": {
    "scrolled": true
   },
   "outputs": [
    {
     "data": {
      "text/plain": [
       "     fun: -371.3029810732499\n",
       "     jac: array([ 133.89239371,   52.66863354, -256.97918318,  289.33570775,\n",
       "        418.44721181, -191.22282993])\n",
       " message: 'Optimization terminated successfully.'\n",
       "    nfev: 4064\n",
       "     nit: 44\n",
       " success: True\n",
       "       x: array([0.5, 0.5, 1. , 0.5, 0.5, 1. ])"
      ]
     },
     "execution_count": 26,
     "metadata": {},
     "output_type": "execute_result"
    }
   ],
   "source": [
    "result"
   ]
  },
  {
   "cell_type": "code",
   "execution_count": 27,
   "metadata": {},
   "outputs": [
    {
     "data": {
      "text/plain": [
       "      fun: -371.3029810732499\n",
       " hess_inv: <6x6 LbfgsInvHessProduct with dtype=float64>\n",
       "      jac: array([ 133.89239371,   52.66863354, -256.97918318,  289.33570775,\n",
       "        418.44721181, -191.22282993])\n",
       "  message: b'CONVERGENCE: NORM_OF_PROJECTED_GRADIENT_<=_PGTOL'\n",
       "     nfev: 14\n",
       "      nit: 1\n",
       "   status: 0\n",
       "  success: True\n",
       "        x: array([0.5, 0.5, 1. , 0.5, 0.5, 1. ])"
      ]
     },
     "execution_count": 27,
     "metadata": {},
     "output_type": "execute_result"
    }
   ],
   "source": [
    "results2"
   ]
  },
  {
   "cell_type": "code",
   "execution_count": 28,
   "metadata": {},
   "outputs": [],
   "source": [
    "# baseline mortality due to PM2.5 and O3"
   ]
  },
  {
   "cell_type": "code",
   "execution_count": 29,
   "metadata": {},
   "outputs": [],
   "source": [
    "m_base = mortality_o3(p,I,o3_base)+ mortality_pm(p,I,pm25_base)"
   ]
  },
  {
   "cell_type": "code",
   "execution_count": 30,
   "metadata": {},
   "outputs": [
    {
     "data": {
      "text/plain": [
       "9314.898687284787"
      ]
     },
     "execution_count": 30,
     "metadata": {},
     "output_type": "execute_result"
    }
   ],
   "source": [
    "m_base"
   ]
  },
  {
   "cell_type": "code",
   "execution_count": 31,
   "metadata": {
    "scrolled": true
   },
   "outputs": [
    {
     "data": {
      "text/plain": [
       "-371.3029810732499"
      ]
     },
     "execution_count": 31,
     "metadata": {},
     "output_type": "execute_result"
    }
   ],
   "source": [
    "result.fun  # number of avoided deaths"
   ]
  },
  {
   "cell_type": "code",
   "execution_count": 32,
   "metadata": {},
   "outputs": [
    {
     "data": {
      "text/plain": [
       "1.0172684412965751"
      ]
     },
     "execution_count": 32,
     "metadata": {},
     "output_type": "execute_result"
    }
   ],
   "source": [
    "abs(result.fun)/365  # avoided deaths per day"
   ]
  },
  {
   "cell_type": "code",
   "execution_count": 33,
   "metadata": {},
   "outputs": [
    {
     "data": {
      "text/plain": [
       "15.259026619448626"
      ]
     },
     "execution_count": 33,
     "metadata": {},
     "output_type": "execute_result"
    }
   ],
   "source": [
    "abs(result.fun)/365*15  # total avoided deaths in 15 days"
   ]
  },
  {
   "cell_type": "code",
   "execution_count": 34,
   "metadata": {},
   "outputs": [
    {
     "data": {
      "text/plain": [
       "-3.9861193721848363"
      ]
     },
     "execution_count": 34,
     "metadata": {},
     "output_type": "execute_result"
    }
   ],
   "source": [
    "result.fun/m_base*100      # pecent of total avoidavble deaths"
   ]
  },
  {
   "cell_type": "code",
   "execution_count": null,
   "metadata": {},
   "outputs": [],
   "source": []
  }
 ],
 "metadata": {
  "kernelspec": {
   "display_name": "Python 3",
   "language": "python",
   "name": "python3"
  },
  "language_info": {
   "codemirror_mode": {
    "name": "ipython",
    "version": 3
   },
   "file_extension": ".py",
   "mimetype": "text/x-python",
   "name": "python",
   "nbconvert_exporter": "python",
   "pygments_lexer": "ipython3",
   "version": "3.8.2"
  }
 },
 "nbformat": 4,
 "nbformat_minor": 4
}
