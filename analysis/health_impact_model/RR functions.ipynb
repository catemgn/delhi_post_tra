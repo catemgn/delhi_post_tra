{
 "cells": [
  {
   "cell_type": "markdown",
   "metadata": {},
   "source": [
    "# design RR function for PM2.5 and  O3"
   ]
  },
  {
   "cell_type": "markdown",
   "metadata": {},
   "source": [
    "based on Paper: \n",
    "Haikun Wang, Xiaojing He, Xinyu Liang, Ernani F Choma, Yifan Liu, Li Shan, Haotian Zheng,\n",
    "749 Shaojun Zhang, Chris P Nielsen, ShuxiaoWang, et al. Health benefits of on-road transportation\n",
    "750 pollution control programs in china. Proceedings of the National Academy of Sciences, 117(41):\n",
    "751 25370–25377, 2020."
   ]
  },
  {
   "cell_type": "code",
   "execution_count": 1,
   "metadata": {},
   "outputs": [],
   "source": [
    "import numpy as np\n",
    "import pandas as pd\n",
    "import scipy.interpolate "
   ]
  },
  {
   "cell_type": "code",
   "execution_count": 2,
   "metadata": {},
   "outputs": [],
   "source": [
    "# Pm2.5"
   ]
  },
  {
   "cell_type": "code",
   "execution_count": 3,
   "metadata": {},
   "outputs": [],
   "source": [
    "import math\n",
    "minpm=10\n",
    "def rr_complex(x):\n",
    "    y= math.exp((0.143*math.log((x-minpm)/1.6+1))/(1+math.exp(-1*(x-minpm-15.5)/36.8)))\n",
    "    return y"
   ]
  },
  {
   "cell_type": "code",
   "execution_count": 4,
   "metadata": {},
   "outputs": [
    {
     "data": {
      "image/png": "[encoded data removed]",
      "text/plain": [
       "<Figure size 432x288 with 1 Axes>"
      ]
     },
     "metadata": {
      "needs_background": "light"
     },
     "output_type": "display_data"
    }
   ],
   "source": [
    "xnew = np.linspace(25, 250, num=100, endpoint=True)\n",
    "import matplotlib.pyplot as plt\n",
    "plt.plot(xnew, [rr_complex(x) for x in xnew],color='r')\n",
    "plt.legend(['RR_p2'], loc='best')\n",
    "plt.axis('auto')\n",
    "plt.xlabel('PM2.5 (ug m-3)')\n",
    "plt.ylabel('Relative Risk')\n",
    "\n",
    "plt.show()"
   ]
  },
  {
   "cell_type": "code",
   "execution_count": 5,
   "metadata": {},
   "outputs": [],
   "source": [
    "# Ozone"
   ]
  },
  {
   "cell_type": "code",
   "execution_count": 6,
   "metadata": {},
   "outputs": [
    {
     "data": {
      "text/plain": [
       "array([0. , 0.5, 1. ])"
      ]
     },
     "execution_count": 6,
     "metadata": {},
     "output_type": "execute_result"
    }
   ],
   "source": [
    "np.heaviside([-1.5, 0, 2.0], 0.5)"
   ]
  },
  {
   "cell_type": "code",
   "execution_count": 7,
   "metadata": {},
   "outputs": [],
   "source": [
    "def step_o3(x,c0=20,val=1.03):\n",
    "    if x<=c0:\n",
    "        f=1\n",
    "    else:\n",
    "        f=pow(val,(x-c0)/(10*2))  # original is /10 (ppb) we have ug m-3 so we convert roughly to /20 ug m-3\n",
    "        \n",
    "    return f"
   ]
  },
  {
   "cell_type": "code",
   "execution_count": 8,
   "metadata": {
    "scrolled": true
   },
   "outputs": [
    {
     "data": {
      "text/plain": [
       "1.0453358312044987"
      ]
     },
     "execution_count": 8,
     "metadata": {},
     "output_type": "execute_result"
    }
   ],
   "source": [
    "step_o3(50)"
   ]
  },
  {
   "cell_type": "code",
   "execution_count": 9,
   "metadata": {},
   "outputs": [],
   "source": [
    "step_o3_vec=np.vectorize(step_o3)"
   ]
  },
  {
   "cell_type": "code",
   "execution_count": 10,
   "metadata": {
    "scrolled": false
   },
   "outputs": [
    {
     "data": {
      "text/plain": [
       "[1, 1.0453358312044987]"
      ]
     },
     "execution_count": 10,
     "metadata": {},
     "output_type": "execute_result"
    }
   ],
   "source": [
    "[step_o3(i) for i in [10,50] ]"
   ]
  },
  {
   "cell_type": "code",
   "execution_count": 11,
   "metadata": {
    "scrolled": true
   },
   "outputs": [
    {
     "data": {
      "image/png": "[encoded data removed]",
      "text/plain": [
       "<Figure size 432x288 with 1 Axes>"
      ]
     },
     "metadata": {
      "needs_background": "light"
     },
     "output_type": "display_data"
    }
   ],
   "source": [
    "xnew = np.linspace(0, 100, num=101, endpoint=True)\n",
    "plt.plot(xnew,[step_o3(i) for i in xnew], '-', color='red')\n",
    "plt.legend(['RR_o'], loc='best')\n",
    "plt.axis('auto')\n",
    "plt.xlabel('O$_3$ ug m-3)')\n",
    "plt.ylabel('Relative Risk')\n",
    "plt.show()"
   ]
  },
  {
   "cell_type": "code",
   "execution_count": null,
   "metadata": {},
   "outputs": [],
   "source": []
  }
 ],
 "metadata": {
  "kernelspec": {
   "display_name": "Python 3",
   "language": "python",
   "name": "python3"
  },
  "language_info": {
   "codemirror_mode": {
    "name": "ipython",
    "version": 3
   },
   "file_extension": ".py",
   "mimetype": "text/x-python",
   "name": "python",
   "nbconvert_exporter": "python",
   "pygments_lexer": "ipython3",
   "version": "3.8.2"
  }
 },
 "nbformat": 4,
 "nbformat_minor": 4
}
