{
 "cells": [
  {
   "cell_type": "markdown",
   "metadata": {},
   "source": [
    "This notebook quantifies the impact on BC on the nested domain (d02) on the PM2.5 over Delhi"
   ]
  },
  {
   "cell_type": "code",
   "execution_count": 1,
   "metadata": {},
   "outputs": [],
   "source": [
    "import xarray as xr\n",
    "import numpy as np       \n",
    "import warnings\n",
    "import pandas as pd\n",
    "import salem\n",
    "\n",
    "warnings.filterwarnings('ignore')\n",
    "\n",
    "shp='/exports/csce/datastore/geos/users/s1878599/phd_work/DelhiNCT/gadm_data/delhiNCT/delhiNCT.shp'"
   ]
  },
  {
   "cell_type": "code",
   "execution_count": 2,
   "metadata": {},
   "outputs": [],
   "source": [
    "\n",
    "ds_nobc=xr.open_mfdataset('/exports/geos.ed.ac.uk/palmer_group/managed/s1878599/delhiAQ/delhiNCT/outputs_postmon/pblmincoeff_tests/wrfout_d01_2019-10-*_00:00:00_no_bc.nc')\n",
    "ds=xr.open_mfdataset('/exports/geos.ed.ac.uk/palmer_group/managed/s1878599/delhiAQ/delhiNCT/outputs_postmon/pblmincoeff_tests/wrfout_d01_2019-10-*_00:00:00_nest_2019_newdyno_exchmin5.nc')"
   ]
  },
  {
   "cell_type": "code",
   "execution_count": 3,
   "metadata": {},
   "outputs": [],
   "source": [
    "def reset_time_dim(ds):\n",
    "    \"\"\"\n",
    "    Time dimension in WRF-Chem datasets is just the time index [0,1,2,3...].\n",
    "    This function convert dimension Time as datetime[64].\n",
    "    :param ds:\n",
    "     wrf-chem xarray dataset.\n",
    "    :type ds:xarray.Dataset.\n",
    "    :return:\n",
    "     xarray.Dataset with datetime time dim.\n",
    "    :rtype: xarray.Dataset.\n",
    "    \"\"\"\n",
    "    return ds.assign_coords(Time=pd.to_datetime(ds.XTIME.values))"
   ]
  },
  {
   "cell_type": "code",
   "execution_count": 4,
   "metadata": {},
   "outputs": [],
   "source": [
    "# reset time\n",
    "ds_nobc=reset_time_dim(ds_nobc).sel(Time=slice('2019-10-06T00:00:00.000000000','2019-10-16T00:00:00.000000000')) # 5 days\n",
    "ds=reset_time_dim(ds).sel(Time=slice('2019-10-06T00:00:00.000000000','2019-10-16T00:00:00.000000000')) # 5 days"
   ]
  },
  {
   "cell_type": "code",
   "execution_count": 5,
   "metadata": {},
   "outputs": [],
   "source": [
    "# reset time, local time and discard 5 days  spinup period.\n",
    "ds=reset_time_dim(ds)\n",
    "ds=ds.assign_coords(Time=pd.to_datetime(ds.Time.to_index().tz_localize('UTC').tz_convert('Asia/Kolkata').strftime('%Y-%m-%d %H:%M:%S')))\n",
    "ds.XTIME.values=ds.Time.values\n",
    "ds=ds.sel(Time=slice('2019-10-06T00:00:00.000000000','2019-10-14T23:30:00.000000000'))  # discad spinup"
   ]
  },
  {
   "cell_type": "code",
   "execution_count": 6,
   "metadata": {},
   "outputs": [],
   "source": [
    "ds_nobc=reset_time_dim(ds_nobc)\n",
    "ds_nobc=ds_nobc.assign_coords(Time=pd.to_datetime(ds_nobc.Time.to_index().tz_localize('UTC').tz_convert('Asia/Kolkata').strftime('%Y-%m-%d %H:%M:%S')))\n",
    "ds_nobc.XTIME.values=ds_nobc.Time.values\n",
    "ds_nobc=ds_nobc.sel(Time=slice('2019-10-06T00:00:00.000000000','2019-10-14T23:30:00.000000000'))  # discad spinup"
   ]
  },
  {
   "cell_type": "code",
   "execution_count": 7,
   "metadata": {},
   "outputs": [],
   "source": [
    "# get delhi data only\n",
    "ds= ds.salem.roi(shape=shp)\n",
    "ds_nobc=ds_nobc.salem.roi(shape=shp)"
   ]
  },
  {
   "cell_type": "code",
   "execution_count": 8,
   "metadata": {},
   "outputs": [
    {
     "data": {
      "text/plain": [
       "array(-0.46305552, dtype=float32)"
      ]
     },
     "execution_count": 8,
     "metadata": {},
     "output_type": "execute_result"
    }
   ],
   "source": [
    "((ds_nobc.PM2_5_DRY - ds.PM2_5_DRY)/ds.PM2_5_DRY).mean(['Time','south_north','west_east'])[0].values"
   ]
  },
  {
   "cell_type": "code",
   "execution_count": 9,
   "metadata": {
    "scrolled": true
   },
   "outputs": [
    {
     "data": {
      "text/plain": [
       "array(-38.683342, dtype=float32)"
      ]
     },
     "execution_count": 9,
     "metadata": {},
     "output_type": "execute_result"
    }
   ],
   "source": [
    "((ds_nobc.PM2_5_DRY - ds.PM2_5_DRY)).mean(['Time','south_north','west_east'])[0].values"
   ]
  },
  {
   "cell_type": "code",
   "execution_count": 10,
   "metadata": {},
   "outputs": [],
   "source": [
    "# 24h average mean\n",
    "ds_nobc=ds_nobc.resample(Time='1D').mean(dim='Time')\n",
    "ds=ds.resample(Time='1D').mean(dim='Time')"
   ]
  },
  {
   "cell_type": "code",
   "execution_count": 11,
   "metadata": {},
   "outputs": [
    {
     "data": {
      "text/plain": [
       "array(-38.628014, dtype=float32)"
      ]
     },
     "execution_count": 11,
     "metadata": {},
     "output_type": "execute_result"
    }
   ],
   "source": [
    "((ds_nobc.PM2_5_DRY - ds.PM2_5_DRY)).mean(['Time','south_north','west_east'])[0].values"
   ]
  },
  {
   "cell_type": "code",
   "execution_count": 12,
   "metadata": {},
   "outputs": [
    {
     "data": {
      "text/plain": [
       "<matplotlib.collections.QuadMesh at 0x7f90606b4040>"
      ]
     },
     "execution_count": 12,
     "metadata": {},
     "output_type": "execute_result"
    },
    {
     "data": {
      "image/png": "[encoded data removed]",
      "text/plain": [
       "<Figure size 432x288 with 2 Axes>"
      ]
     },
     "metadata": {
      "needs_background": "light"
     },
     "output_type": "display_data"
    }
   ],
   "source": [
    "((ds_nobc.PM2_5_DRY - ds.PM2_5_DRY)/ds.PM2_5_DRY).mean(['Time'])[0].plot()"
   ]
  },
  {
   "cell_type": "code",
   "execution_count": null,
   "metadata": {},
   "outputs": [],
   "source": []
  }
 ],
 "metadata": {
  "kernelspec": {
   "display_name": "Python 3",
   "language": "python",
   "name": "python3"
  },
  "language_info": {
   "codemirror_mode": {
    "name": "ipython",
    "version": 3
   },
   "file_extension": ".py",
   "mimetype": "text/x-python",
   "name": "python",
   "nbconvert_exporter": "python",
   "pygments_lexer": "ipython3",
   "version": "3.8.2"
  }
 },
 "nbformat": 4,
 "nbformat_minor": 4
}
